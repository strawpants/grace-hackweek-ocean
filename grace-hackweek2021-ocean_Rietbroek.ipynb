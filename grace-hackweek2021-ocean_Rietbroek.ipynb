{
 "cells": [
  {
   "cell_type": "code",
   "execution_count": 4,
   "metadata": {
    "slideshow": {
     "slide_type": "skip"
    }
   },
   "outputs": [
    {
     "name": "stdout",
     "output_type": "stream",
     "text": [
      "The autoreload extension is already loaded. To reload it, use:\n",
      "  %reload_ext autoreload\n"
     ]
    }
   ],
   "source": [
    "%load_ext autoreload\n",
    "%autoreload 2"
   ]
  },
  {
   "cell_type": "code",
   "execution_count": 5,
   "metadata": {
    "slideshow": {
     "slide_type": "skip"
    }
   },
   "outputs": [],
   "source": [
    "from jupylecture.tools import hideCode,FlexSlide"
   ]
  },
  {
   "cell_type": "markdown",
   "metadata": {
    "slideshow": {
     "slide_type": "slide"
    }
   },
   "source": [
    "###  Time variable gravity: Ocean applications\n",
    "<img src=\"images/The_Great_Wave_off_Kanagawa.jpg\" alt=\"Drawing\" style=\"width: 1000px;\"/>\n",
    "The Great Wave off Kanagawa, 1831, Hokusai"
   ]
  },
  {
   "cell_type": "markdown",
   "metadata": {
    "cell_style": "center",
    "slideshow": {
     "slide_type": "slide"
    }
   },
   "source": [
    "## Theory\n",
    "\n",
    "* Barotropic versus baroclinic signals\n",
    "* Ocean bottom pressure and steric signals\n",
    "* Geostrophic flow (surface/bottom)\n",
    "* GRACE errors\n",
    "* Bousinesqq appximation\n",
    "* level of no motion\n",
    "* IB effects and ocean mass versus OBP\n",
    "* ocean floor deformations\n",
    "* GIA errors\n",
    "* Self attraction and loading"
   ]
  },
  {
   "cell_type": "code",
   "execution_count": 6,
   "metadata": {
    "slideshow": {
     "slide_type": "slide"
    }
   },
   "outputs": [
    {
     "data": {
      "text/html": [
       "<div id=\"16b7ef063d8b0d59\"></div>\n",
       "    <script type=\"text/javascript\">\n",
       "        $(function(){\n",
       "            var p = $(\"#16b7ef063d8b0d59\");\n",
       "            if (p.length==0) return;\n",
       "            while (!p.hasClass(\"cell\")) {\n",
       "                p=p.parent();\n",
       "                if (p.prop(\"tagName\") ==\"body\") return;\n",
       "            }\n",
       "            var cell = p;\n",
       "            cell.find(\".input\").addClass(\"hide-in-slideshow\")\n",
       "        });\n",
       "    </script>"
      ]
     },
     "metadata": {},
     "output_type": "display_data"
    },
    {
     "data": {
      "text/markdown": [
       "\n",
       "<div class=\"flxsld text_cell\" ><div class=\"flx100\"><p>Quiz time!</p></div>\n",
       "\n",
       "\n",
       "<div class=\" flx100 asp16x9\" >\n",
       "\n",
       "<iframe src=\"https://app.wooclap.com/events/IDGQJT/questions/615c280316439b12083a292b\" width=\"100%\" height=\"100%\"></iframe></div>\n",
       "\n",
       "</div>"
      ],
      "text/plain": [
       "<jupylecture.tools.FlexSlide at 0x7f4f64b5b940>"
      ]
     },
     "metadata": {},
     "output_type": "display_data"
    }
   ],
   "source": [
    "sld=FlexSlide(\"Quiz time!\")\n",
    "sld.addIframe(\"https://app.wooclap.com/events/IDGQJT/questions/615c280316439b12083a292b\")    \n",
    "sld.display()"
   ]
  },
  {
   "cell_type": "code",
   "execution_count": 3,
   "metadata": {
    "slideshow": {
     "slide_type": "slide"
    }
   },
   "outputs": [
    {
     "data": {
      "text/html": [
       "<div id=\"194a5141033265b1\"></div>\n",
       "    <script type=\"text/javascript\">\n",
       "        $(function(){\n",
       "            var p = $(\"#194a5141033265b1\");\n",
       "            if (p.length==0) return;\n",
       "            while (!p.hasClass(\"cell\")) {\n",
       "                p=p.parent();\n",
       "                if (p.prop(\"tagName\") ==\"body\") return;\n",
       "            }\n",
       "            var cell = p;\n",
       "            cell.find(\".input\").addClass(\"hide-in-slideshow\")\n",
       "        });\n",
       "    </script>"
      ]
     },
     "metadata": {},
     "output_type": "display_data"
    },
    {
     "data": {
      "text/markdown": [
       "\n",
       "<div class=\"flxsld text_cell\" ><div class=\"flx100\"><p>Quiz time!</p></div>\n",
       "\n",
       "\n",
       "<div class=\" flx100 asp16x9\" >\n",
       "\n",
       "<iframe src=\"https://app.wooclap.com/events/IDGQJT/questions/615c2a594df60812064ca623\" width=\"100%\" height=\"100%\"></iframe></div>\n",
       "\n",
       "</div>"
      ],
      "text/plain": [
       "<jupylecture.tools.FlexSlide at 0x7f4f64b5b790>"
      ]
     },
     "metadata": {},
     "output_type": "display_data"
    }
   ],
   "source": [
    "sld=FlexSlide(\"Quiz time!\")\n",
    "sld.addIframe(\"https://app.wooclap.com/events/IDGQJT/questions/615c2a594df60812064ca623\")    \n",
    "sld.display()\n",
    "#<iframe allowfullscreen frameborder=\"0\" height=\"600px\" mozallowfullscreen src=\"https://app.wooclap.com/events/IDGQJT/questions/615c2a594df60812064ca623\" width=\"100%\"></iframe>\n",
    "              "
   ]
  },
  {
   "cell_type": "markdown",
   "metadata": {
    "slideshow": {
     "slide_type": "slide"
    }
   },
   "source": [
    "## Early GRACE validation\n",
    "* Kanzow vs Rietbroek, why does and why doesn't it work\n",
    "* Cecilia Peralta-Ferriz "
   ]
  },
  {
   "cell_type": "markdown",
   "metadata": {
    "slideshow": {
     "slide_type": "slide"
    }
   },
   "source": [
    "## Recent time variable work\n",
    "* Ocean mass variations (GRACE, Swarm)\n",
    "* Sea level budget (contributions from various factors)\n",
    "* OBP variations (Bernd's)"
   ]
  },
  {
   "cell_type": "markdown",
   "metadata": {
    "cell_style": "center",
    "slideshow": {
     "slide_type": "slide"
    }
   },
   "source": [
    "## What have you learned? Future directions\n",
    "* Harmonize radar altimetry and ocean bottom pressure \n",
    "* Long term changes in wind fields\n",
    "* Bottom ocean currents\n",
    "\n",
    "\n"
   ]
  }
 ],
 "metadata": {
  "celltoolbar": "Slideshow",
  "kernelspec": {
   "display_name": "pyrr",
   "language": "python",
   "name": "pyrr"
  },
  "language_info": {
   "codemirror_mode": {
    "name": "ipython",
    "version": 3
   },
   "file_extension": ".py",
   "mimetype": "text/x-python",
   "name": "python",
   "nbconvert_exporter": "python",
   "pygments_lexer": "ipython3",
   "version": "3.9.7"
  },
  "rise": {
   "autolaunch": true,
   "enable_chalkboard": true,
   "footer": "<div><h3>GRACE Hackweek 2021, R. Rietbroek, Oct 2021</h3></div><div id=\"logobox\"></div>",
   "slideNumber": "c/t",
   "theme": "black",
   "transition": "None"
  }
 },
 "nbformat": 4,
 "nbformat_minor": 2
}
