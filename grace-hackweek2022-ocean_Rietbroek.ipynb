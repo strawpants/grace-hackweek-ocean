{
 "cells": [
  {
   "cell_type": "code",
   "execution_count": 1,
   "metadata": {
    "slideshow": {
     "slide_type": "skip"
    }
   },
   "outputs": [],
   "source": [
    "from jupylecture.tools import hideCode,FlexSlide"
   ]
  },
  {
   "cell_type": "markdown",
   "metadata": {
    "slideshow": {
     "slide_type": "slide"
    }
   },
   "source": [
    "#  Churning the Ocean: Time variable gravity for ocean applications\n",
    "<img src=\"images/Samudra_manthan.jpg\" alt=\"Drawing\" style=\"width: 60%;\"/>\n",
    "\n",
    "[Samudra Manthan, CC BY 3.0](https://commons.wikimedia.org/w/index.php?curid=106963683)\n",
    "\n",
    "*Roelof Rietbroek, 28 Sept. 2022* \n"
   ]
  },
  {
   "cell_type": "markdown",
   "metadata": {
    "slideshow": {
     "slide_type": "notes"
    }
   },
   "source": [
    "* Hindu story of the Churning of the Ocean, \n",
    "* Two enemies tribes, Devas and Asuras, join efforts to obtain the **nectar of immortality**\n",
    "* Asuras were manipulated and pulled the short straw (or int his case the venomous head of the snake)\n",
    "* But there are anologies with the science we're discussing today\n",
    "\n"
   ]
  },
  {
   "cell_type": "code",
   "execution_count": 2,
   "metadata": {
    "slideshow": {
     "slide_type": "slide"
    }
   },
   "outputs": [
    {
     "data": {
      "text/html": [
       "<div id=\"035a95344666bfb3\"></div>\n",
       "    <script type=\"text/javascript\">\n",
       "        $(function(){\n",
       "            var p = $(\"#035a95344666bfb3\");\n",
       "            if (p.length==0) return;\n",
       "            while (!p.hasClass(\"cell\")) {\n",
       "                p=p.parent();\n",
       "                if (p.prop(\"tagName\") ==\"body\") return;\n",
       "            }\n",
       "            var cell = p;\n",
       "            cell.find(\".input\").addClass(\"hide-in-slideshow\")\n",
       "        });\n",
       "    </script>"
      ]
     },
     "metadata": {},
     "output_type": "display_data"
    },
    {
     "data": {
      "text/markdown": [
       "\n",
       "<div class=\"flxsld text_cell\" ><div class=\"flx100\"><h1>Analogies with today's talk</h1></div>\n",
       "\n",
       "\n",
       "<div class=\" flx60\" >\n",
       "\n",
       "<ul><li class=\"fragment fade-in\">Mount Mandara: Adding mass to the ocean (e.g. melt water)</li><li class=\"fragment fade-in\">Snake Vasuki: set the ocean in motion (e.g. forcing from wind stress)</li><li class=\"fragment fade-in\">Central Question: How can we use time variable gravity to observe ocean signals?</li></ul></div>\n",
       "<div class=\" flx40\" >\n",
       "\n",
       "<p><img src=\"/files/images/Samudra_manthan.jpg\" alt=\"None\"  /></p></div>\n",
       "<div class=\" flx100\" >\n",
       "\n",
       "<p><img src=\"images/gitqrcode.png\" style=\"width:200px;\"><small>Find this presentation on <a href=\"https://github.com/strawpants/grace-hackweek-ocean\">https://github.com/strawpants/grace-hackweek-ocean</a></small></img></p></div>\n",
       "\n",
       "</div>"
      ],
      "text/plain": [
       "<jupylecture.tools.FlexSlide at 0x7f82e4e15bd0>"
      ]
     },
     "metadata": {},
     "output_type": "display_data"
    }
   ],
   "source": [
    "slide=FlexSlide(\"# Analogies with today's talk\")\n",
    "slide.addItems(flxwidth=\"flx60\",frag=True,items=[\"Mount Mandara: Adding mass to the ocean (e.g. melt water)\",\"Snake Vasuki: set the ocean in motion (e.g. forcing from wind stress)\",\n",
    "                                                \"Central Question: How can we use time variable gravity to observe ocean signals?\"])\n",
    "slide.addimg(\"/files/images/Samudra_manthan.jpg\",flxwidth=\"flx40\")\n",
    "slide.addmd('<img src=\"images/gitqrcode.png\" style=\"width:200px;\"><small>Find this presentation on [https://github.com/strawpants/grace-hackweek-ocean](https://github.com/strawpants/grace-hackweek-ocean)</small></img>',flxwidth=\"flx100\")\n",
    "slide.display()"
   ]
  },
  {
   "cell_type": "markdown",
   "metadata": {
    "slideshow": {
     "slide_type": "slide"
    }
   },
   "source": [
    "# Adding mass to the oceans"
   ]
  },
  {
   "cell_type": "markdown",
   "metadata": {
    "slideshow": {
     "slide_type": "fragment"
    }
   },
   "source": [
    "## (or removing it)\n",
    "<img src=\"images/Pakistan-floods2022.jpg\" alt=\"Drawing\" style=\"width: 60%;\"/>\n",
    "\n",
    "**2022 Floods in Pakistan, image: AFP**"
   ]
  },
  {
   "cell_type": "code",
   "execution_count": 19,
   "metadata": {
    "slideshow": {
     "slide_type": "slide"
    }
   },
   "outputs": [
    {
     "data": {
      "text/html": [
       "<div id=\"dfdca937fcd0508c\"></div>\n",
       "    <script type=\"text/javascript\">\n",
       "        $(function(){\n",
       "            var p = $(\"#dfdca937fcd0508c\");\n",
       "            if (p.length==0) return;\n",
       "            while (!p.hasClass(\"cell\")) {\n",
       "                p=p.parent();\n",
       "                if (p.prop(\"tagName\") ==\"body\") return;\n",
       "            }\n",
       "            var cell = p;\n",
       "            cell.find(\".input\").addClass(\"hide-in-slideshow\")\n",
       "        });\n",
       "    </script>"
      ]
     },
     "metadata": {},
     "output_type": "display_data"
    },
    {
     "data": {
      "text/markdown": [
       "\n",
       "<div class=\"flxsld text_cell\" ><div class=\"flx100\"><h1>Does La Nina affect sea level?</h1></div>\n",
       "\n",
       "\n",
       "<div class=\" flx40\" >\n",
       "\n",
       "<p><img src=\"images/meiv2Sep22.png\" alt=\"None\"  /><small>Multivariate ENSO index,https://psl.noaa.gov/enso</small></p></div>\n",
       "<div class=\" flx50\" >\n",
       "\n",
       "<p><img src=\"images/laninaExp.jpg\" alt=\"None\"  /></p></div>\n",
       "<div class=\" flx80\" >\n",
       "\n",
       "<ul><li class=\"fragment fade-in\">Stronger trade winds -> warm ocean blob in the western Pacific</li><li class=\"fragment fade-in\">Wet conditions in the West Pacific cause extreme precipitation</li><li class=\"fragment fade-in\">Teleconnections with Monsoon, Africa..</li></ul></div>\n",
       "\n",
       "</div>"
      ],
      "text/plain": [
       "<jupylecture.tools.FlexSlide at 0x7f82e4e14bb0>"
      ]
     },
     "metadata": {},
     "output_type": "display_data"
    }
   ],
   "source": [
    "slide=FlexSlide(\"# Does La Nina affect sea level?\")\n",
    "slide.addimg('images/meiv2Sep22.png',flxwidth=\"flx40\",caption=\"Multivariate ENSO index,https://psl.noaa.gov/enso\")\n",
    "slide.addimg(\"images/laninaExp.jpg\",flxwidth=\"flx50\")\n",
    "slide.addItems(flxwidth=\"flx80\",frag=True,items=[\"Stronger trade winds -> warm ocean blob in the western Pacific\", \"Wet conditions in the West Pacific cause extreme precipitation\",\"Teleconnections with Monsoon, Africa..\"])\n",
    "slide.display()"
   ]
  },
  {
   "cell_type": "code",
   "execution_count": 4,
   "metadata": {
    "slideshow": {
     "slide_type": "slide"
    }
   },
   "outputs": [
    {
     "data": {
      "text/html": [
       "<div id=\"f673cc0ff3dd1745\"></div>\n",
       "    <script type=\"text/javascript\">\n",
       "        $(function(){\n",
       "            var p = $(\"#f673cc0ff3dd1745\");\n",
       "            if (p.length==0) return;\n",
       "            while (!p.hasClass(\"cell\")) {\n",
       "                p=p.parent();\n",
       "                if (p.prop(\"tagName\") ==\"body\") return;\n",
       "            }\n",
       "            var cell = p;\n",
       "            cell.find(\".input\").addClass(\"hide-in-slideshow\")\n",
       "        });\n",
       "    </script>"
      ]
     },
     "metadata": {},
     "output_type": "display_data"
    },
    {
     "data": {
      "text/markdown": [
       "\n",
       "<div class=\"flxsld text_cell\" ><div class=\"flx100\"><p>Quiz time!</p></div>\n",
       "\n",
       "\n",
       "<div class=\" flx100 asp16x9\" >\n",
       "\n",
       "<iframe src=\"https://app.wooclap.com/events/IRLIBH/0\" width=\"100%\" height=\"100%\"></iframe></div>\n",
       "\n",
       "</div>"
      ],
      "text/plain": [
       "<jupylecture.tools.FlexSlide at 0x7f82e4e14220>"
      ]
     },
     "metadata": {},
     "output_type": "display_data"
    }
   ],
   "source": [
    "sld=FlexSlide(\"Quiz time!\")\n",
    "sld.addIframe(\"https://app.wooclap.com/events/IRLIBH/0\",flxwidth=\"flx100\")    \n",
    "sld.display()"
   ]
  },
  {
   "cell_type": "markdown",
   "metadata": {
    "slideshow": {
     "slide_type": "notes"
    }
   },
   "source": [
    "* One question on La Nina only, leave open after"
   ]
  },
  {
   "cell_type": "code",
   "execution_count": 5,
   "metadata": {
    "slideshow": {
     "slide_type": "slide"
    }
   },
   "outputs": [
    {
     "data": {
      "text/html": [
       "<div id=\"7d3f9c7c6d9c0935\"></div>\n",
       "    <script type=\"text/javascript\">\n",
       "        $(function(){\n",
       "            var p = $(\"#7d3f9c7c6d9c0935\");\n",
       "            if (p.length==0) return;\n",
       "            while (!p.hasClass(\"cell\")) {\n",
       "                p=p.parent();\n",
       "                if (p.prop(\"tagName\") ==\"body\") return;\n",
       "            }\n",
       "            var cell = p;\n",
       "            cell.find(\".input\").addClass(\"hide-in-slideshow\")\n",
       "        });\n",
       "    </script>"
      ]
     },
     "metadata": {},
     "output_type": "display_data"
    },
    {
     "data": {
      "text/markdown": [
       "\n",
       "<div class=\"flxsld text_cell\" ><div class=\"flx100\"><h1>2010-2011 La Nina event</h1></div>\n",
       "\n",
       "\n",
       "<div class=\" flx40\" >\n",
       "\n",
       "<p><img src=\"images/lanina1.png\" alt=\"None\"  /><small>Global mean sea level variations (total, mass driven and 'steric'), From Böning et al. 2012</small></p></div>\n",
       "<div class=\" flx50\" >\n",
       "\n",
       "<p><img src=\"images/lanina2.png\" alt=\"None\"  /><small>Terrestrial water storage change (2010-2011) from GRACE, From Böning et al. 2012</small></p></div>\n",
       "<div class=\" flx100\" >\n",
       "\n",
       "<ul><li class=\"fragment fade-in\">Detectable with radar altimetry</li><li class=\"fragment fade-in\">Can be explained by mass-driven sea level (GRACE)</li><li class=\"fragment fade-in\">Hotspot:Australia</li></ul></div>\n",
       "\n",
       "</div>"
      ],
      "text/plain": [
       "<jupylecture.tools.FlexSlide at 0x7f82e4e16d40>"
      ]
     },
     "metadata": {},
     "output_type": "display_data"
    }
   ],
   "source": [
    "slide=FlexSlide(\"# 2010-2011 La Nina event\")\n",
    "slide.addimg(\"images/lanina1.png\",flxwidth=\"flx40\",caption=\"Global mean sea level variations (total, mass driven and 'steric'), From Böning et al. 2012\")\n",
    "slide.addimg(\"images/lanina2.png\",flxwidth=\"flx50\",caption=\"Terrestrial water storage change (2010-2011) from GRACE, From Böning et al. 2012\")\n",
    "\n",
    "slide.addItems(flxwidth=\"flx100\",frag=True,items=[\"Detectable with radar altimetry\", \n",
    "                                                 \"Can be explained by mass-driven sea level (GRACE)\",\n",
    "                                                 \"Hotspot:Australia\"])\n",
    "\n",
    "slide.display()"
   ]
  },
  {
   "cell_type": "code",
   "execution_count": 6,
   "metadata": {
    "slideshow": {
     "slide_type": "slide"
    }
   },
   "outputs": [
    {
     "data": {
      "text/html": [
       "<div id=\"902e68ade2408258\"></div>\n",
       "    <script type=\"text/javascript\">\n",
       "        $(function(){\n",
       "            var p = $(\"#902e68ade2408258\");\n",
       "            if (p.length==0) return;\n",
       "            while (!p.hasClass(\"cell\")) {\n",
       "                p=p.parent();\n",
       "                if (p.prop(\"tagName\") ==\"body\") return;\n",
       "            }\n",
       "            var cell = p;\n",
       "            cell.find(\".input\").addClass(\"hide-in-slideshow\")\n",
       "        });\n",
       "    </script>"
      ]
     },
     "metadata": {},
     "output_type": "display_data"
    },
    {
     "data": {
      "text/markdown": [
       "\n",
       "<div class=\"flxsld text_cell\" ><div class=\"flx100\"><h1>Sea level contributions since 1900</h1></div>\n",
       "\n",
       "\n",
       "<div class=\" flx50\" >\n",
       "\n",
       "<p><img src=\"images/Frederikse2020.png\" alt=\"None\"  /><small>Historic sea level can be largely explained with different (modelled) sea level contributions. From Frederikse et al. 2020</small></p></div>\n",
       "<div class=\" flx50\" >\n",
       "\n",
       "<ul><li class=\"fragment fade-in\">Historic sea level curve can be inferred from tide gauges</li><li class=\"fragment fade-in\">Uncertainty is larger for early period (sparse obs.)</li><li class=\"fragment fade-in\">Strong interannual fluctuations in mass (barystatic)</li><li class=\"fragment fade-in\">Altimetry only since ~1990 (~3.3 mm/yr)</li><li class=\"fragment fade-in\">Budget can be closed within uncertainties</li><li class=\"fragment fade-in\">Recent accelerations from icesheets and glaciers -> (observable by GRACE since 2002)</li></ul></div>\n",
       "\n",
       "</div>"
      ],
      "text/plain": [
       "<jupylecture.tools.FlexSlide at 0x7f82e4e16980>"
      ]
     },
     "metadata": {},
     "output_type": "display_data"
    }
   ],
   "source": [
    "slide=FlexSlide(\"# Sea level contributions since 1900\")\n",
    "slide.addimg(\"images/Frederikse2020.png\",flxwidth=\"flx50\",caption=\"Historic sea level can be largely explained with different (modelled) sea level contributions. From Frederikse et al. 2020\")\n",
    "slide.addItems(flxwidth=\"flx50\",frag=True,items=[\"Historic sea level curve can be inferred from tide gauges\",\"Uncertainty is larger for early period (sparse obs.)\",\n",
    "                                                 \"Strong interannual fluctuations in mass (barystatic)\",\n",
    "                                                 \"Altimetry only since ~1990 (~3.3 mm/yr)\",\n",
    "                                                \"Budget can be closed within uncertainties\",\n",
    "                                                \"Recent accelerations from icesheets and glaciers -> (observable by GRACE since 2002)\"])\n",
    "slide.display()\n",
    "\n",
    "\n"
   ]
  },
  {
   "cell_type": "code",
   "execution_count": 7,
   "metadata": {
    "slideshow": {
     "slide_type": "slide"
    }
   },
   "outputs": [
    {
     "data": {
      "text/html": [
       "<div id=\"304602f20b39089e\"></div>\n",
       "    <script type=\"text/javascript\">\n",
       "        $(function(){\n",
       "            var p = $(\"#304602f20b39089e\");\n",
       "            if (p.length==0) return;\n",
       "            while (!p.hasClass(\"cell\")) {\n",
       "                p=p.parent();\n",
       "                if (p.prop(\"tagName\") ==\"body\") return;\n",
       "            }\n",
       "            var cell = p;\n",
       "            cell.find(\".input\").addClass(\"hide-in-slideshow\")\n",
       "        });\n",
       "    </script>"
      ]
     },
     "metadata": {},
     "output_type": "display_data"
    },
    {
     "data": {
      "text/markdown": [
       "\n",
       "<div class=\"flxsld text_cell\" ><div class=\"flx100\"><h1>Ocean mass from GRACE (Theory)</h1></div>\n",
       "\n",
       "\n",
       "<div class=\" flx50\" >\n",
       "\n",
       "<p><img src=\"images/SwensonWahr2002.png\" alt=\"None\"  /></p></div>\n",
       "<div class=\" flx50\" >\n",
       "\n",
       "<p><img src=\"images/Averagingformula.png\" alt=\"None\"  /></p></div>\n",
       "<div  >\n",
       "\n",
       "<ul><li class=\"fragment fade-in\">Approach 1: Average over glacier and icesheet regions and sum up</li><li class=\"fragment fade-in\">Or approach 2: directly average over the ocean</li><li class=\"fragment fade-in\">Other approaches (e.g. inverse problems)</li><li class=\"fragment fade-in\">Averaging can be done purely in the spectral domain</li><ul><li class=\"fragment fade-in\">dot product of smoothed basin coefficients with GRACE-TWS coefficients</li></ul></ul></div>\n",
       "\n",
       "</div>"
      ],
      "text/plain": [
       "<jupylecture.tools.FlexSlide at 0x7f82e4e161d0>"
      ]
     },
     "metadata": {},
     "output_type": "display_data"
    }
   ],
   "source": [
    "slide=FlexSlide(\"# Ocean mass from GRACE (Theory)\")\n",
    "slide.addimg(\"images/SwensonWahr2002.png\",flxwidth=\"flx50\")\n",
    "slide.addimg(\"images/Averagingformula.png\",flxwidth=\"flx50\")\n",
    "\n",
    "slide.addItems(frag=True,items=[\"Approach 1: Average over glacier and icesheet regions and sum up\",\n",
    "                                \"Or approach 2: directly average over the ocean\",\n",
    "                                \"Other approaches (e.g. inverse problems)\",\n",
    "                                \"Averaging can be done purely in the spectral domain\",[\"dot product of smoothed basin coefficients with GRACE-TWS coefficients\"]])\n",
    "slide.display()"
   ]
  },
  {
   "cell_type": "code",
   "execution_count": 8,
   "metadata": {
    "slideshow": {
     "slide_type": "slide"
    }
   },
   "outputs": [
    {
     "data": {
      "text/html": [
       "<div id=\"c17b3b10aeb8ac84\"></div>\n",
       "    <script type=\"text/javascript\">\n",
       "        $(function(){\n",
       "            var p = $(\"#c17b3b10aeb8ac84\");\n",
       "            if (p.length==0) return;\n",
       "            while (!p.hasClass(\"cell\")) {\n",
       "                p=p.parent();\n",
       "                if (p.prop(\"tagName\") ==\"body\") return;\n",
       "            }\n",
       "            var cell = p;\n",
       "            cell.find(\".input\").addClass(\"hide-in-slideshow\")\n",
       "        });\n",
       "    </script>"
      ]
     },
     "metadata": {},
     "output_type": "display_data"
    },
    {
     "data": {
      "text/markdown": [
       "\n",
       "<div class=\"flxsld text_cell\" ><div class=\"flx100\"><h1>Ocean mass from GRACE (Praxis)</h1></div>\n",
       "\n",
       "\n",
       "<div class=\" flx100\" >\n",
       "\n",
       "<p><img src=\"images/Uebbing2019.png\" alt=\"None\"  /><small>Effect of different processing choices on ocean mass estimates, from Uebbing et al. 2019</small></p></div>\n",
       "<div  >\n",
       "\n",
       "<ul><li class=\"fragment fade-in\">Processing choices introduce uncertainties in trends</li><ul><li class=\"fragment fade-in\">Correction for glacial isostatic adjustment</li><li class=\"fragment fade-in\">restoring background models (GAC, GAD)</li><li class=\"fragment fade-in\">but also averaging region</li><li class=\"fragment fade-in\">Current mass trends ~1.5-2mm/yr (c.f. total trend ~3.3 mm/yr)</li></ul></ul></div>\n",
       "\n",
       "</div>"
      ],
      "text/plain": [
       "<jupylecture.tools.FlexSlide at 0x7f82e4e16800>"
      ]
     },
     "metadata": {},
     "output_type": "display_data"
    }
   ],
   "source": [
    "slide=FlexSlide(\"# Ocean mass from GRACE (Praxis)\")\n",
    "slide.addimg(\"images/Uebbing2019.png\",flxwidth=\"flx100\",caption=\"Effect of different processing choices on ocean mass estimates, from Uebbing et al. 2019\")\n",
    "slide.addItems(frag=True,items=[\"Processing choices introduce uncertainties in trends\",[\"Correction for glacial isostatic adjustment\", \"restoring background models (GAC, GAD)\",\n",
    "                                                                              \"but also averaging region\", \"Current mass trends ~1.5-2mm/yr (c.f. total trend ~3.3 mm/yr)\"]])\n",
    "slide.display()"
   ]
  },
  {
   "cell_type": "code",
   "execution_count": 9,
   "metadata": {
    "slideshow": {
     "slide_type": "slide"
    }
   },
   "outputs": [
    {
     "data": {
      "text/html": [
       "<div id=\"3c59a4fec4dff47a\"></div>\n",
       "    <script type=\"text/javascript\">\n",
       "        $(function(){\n",
       "            var p = $(\"#3c59a4fec4dff47a\");\n",
       "            if (p.length==0) return;\n",
       "            while (!p.hasClass(\"cell\")) {\n",
       "                p=p.parent();\n",
       "                if (p.prop(\"tagName\") ==\"body\") return;\n",
       "            }\n",
       "            var cell = p;\n",
       "            cell.find(\".input\").addClass(\"hide-in-slideshow\")\n",
       "        });\n",
       "    </script>"
      ]
     },
     "metadata": {},
     "output_type": "display_data"
    },
    {
     "data": {
      "text/markdown": [
       "\n",
       "<div class=\"flxsld text_cell\" ><div class=\"flx100\"><h2>Ocean mass from the SWARM Mission</h2></div>\n",
       "\n",
       "\n",
       "<div class=\" flx50\" >\n",
       "\n",
       "<p><img src=\"images/Lueck2018.png\" alt=\"None\"  /><small>Comparison of ocean mass from GRACE and the SWARM (A,B,C satellites). Update of Luck et al. 2018</small></p></div>\n",
       "<div class=\" flx50\" >\n",
       "\n",
       "<p><img src=\"images/swarm.jpg\" alt=\"None\"  /></p></div>\n",
       "<div class=\" flx100\" >\n",
       "\n",
       "<ul><li class=\"fragment fade-in\">SWARM has no inter-satellite tracking, but precise orbits (sat. A,B and C)</li><li class=\"fragment fade-in\">Precise (kinematic) orbits contain information on low-resolution gravity changes -> ocean scales</li><li class=\"fragment fade-in\">Principle is useful for filling gaps and potentially pre-GRACE era</li></ul></div>\n",
       "\n",
       "</div>"
      ],
      "text/plain": [
       "<jupylecture.tools.FlexSlide at 0x7f82e4e16a40>"
      ]
     },
     "metadata": {},
     "output_type": "display_data"
    }
   ],
   "source": [
    "slide=FlexSlide(\"## Ocean mass from the SWARM Mission\")\n",
    "slide.addimg(\"images/Lueck2018.png\",flxwidth=\"flx50\",caption=\"Comparison of ocean mass from GRACE and the SWARM (A,B,C satellites). Update of Luck et al. 2018\")\n",
    "slide.addimg(\"images/swarm.jpg\",flxwidth=\"flx50\")\n",
    "\n",
    "slide.addItems(flxwidth=\"flx100\",frag=True,items=[\"SWARM has no inter-satellite tracking, but precise orbits (sat. A,B and C)\",\n",
    "               \"Precise (kinematic) orbits contain information on low-resolution gravity changes -> ocean scales\",\n",
    "                                                \"Principle is useful for filling gaps and potentially pre-GRACE era\"])\n",
    "slide.display()"
   ]
  },
  {
   "cell_type": "code",
   "execution_count": 10,
   "metadata": {
    "slideshow": {
     "slide_type": "slide"
    }
   },
   "outputs": [
    {
     "data": {
      "text/html": [
       "<div id=\"6c48eab889a6f1b6\"></div>\n",
       "    <script type=\"text/javascript\">\n",
       "        $(function(){\n",
       "            var p = $(\"#6c48eab889a6f1b6\");\n",
       "            if (p.length==0) return;\n",
       "            while (!p.hasClass(\"cell\")) {\n",
       "                p=p.parent();\n",
       "                if (p.prop(\"tagName\") ==\"body\") return;\n",
       "            }\n",
       "            var cell = p;\n",
       "            cell.find(\".input\").addClass(\"hide-in-slideshow\")\n",
       "        });\n",
       "    </script>"
      ]
     },
     "metadata": {},
     "output_type": "display_data"
    },
    {
     "data": {
      "text/markdown": [
       "\n",
       "<div class=\"flxsld text_cell\" ><div class=\"flx100\"><p>Does Greenland induce regional sea level changes?</p></div>\n",
       "\n",
       "\n",
       "<div class=\" flx100 asp16x9\" >\n",
       "\n",
       "<iframe src=\"https://app.wooclap.com/events/IRLIBH/0\" width=\"100%\" height=\"100%\"></iframe></div>\n",
       "\n",
       "</div>"
      ],
      "text/plain": [
       "<jupylecture.tools.FlexSlide at 0x7f82e4e14430>"
      ]
     },
     "metadata": {},
     "output_type": "display_data"
    }
   ],
   "source": [
    "sld=FlexSlide(\"Does Greenland induce regional sea level changes?\")\n",
    "sld.addIframe(\"https://app.wooclap.com/events/IRLIBH/0\")    \n",
    "sld.display()"
   ]
  },
  {
   "cell_type": "code",
   "execution_count": 11,
   "metadata": {
    "slideshow": {
     "slide_type": "slide"
    }
   },
   "outputs": [
    {
     "data": {
      "text/html": [
       "<div id=\"3010d65fed7428cf\"></div>\n",
       "    <script type=\"text/javascript\">\n",
       "        $(function(){\n",
       "            var p = $(\"#3010d65fed7428cf\");\n",
       "            if (p.length==0) return;\n",
       "            while (!p.hasClass(\"cell\")) {\n",
       "                p=p.parent();\n",
       "                if (p.prop(\"tagName\") ==\"body\") return;\n",
       "            }\n",
       "            var cell = p;\n",
       "            cell.find(\".input\").addClass(\"hide-in-slideshow\")\n",
       "        });\n",
       "    </script>"
      ]
     },
     "metadata": {},
     "output_type": "display_data"
    },
    {
     "data": {
      "text/markdown": [
       "\n",
       "<div class=\"flxsld text_cell\" ><div class=\"flx100\"><h1>Relative sea level is affected by self attraction and loading (SAL)..</h1></div>\n",
       "\n",
       "\n",
       "<div class=\" flx60\" >\n",
       "\n",
       "<p><img src=\"/files/images/SLEQsynfig_whitebg.gif\"style=\"width:100%;\"></img></p></div>\n",
       "<div class=\" flx40\" >\n",
       "\n",
       "<ul><li class=\"fragment fade-in\">Theory goes back to 1888 (Woodward)</li><li class=\"fragment fade-in\">Modelled as a passive ocean response (no currents)</li><li class=\"fragment fade-in\">mass conserving</li><li class=\"fragment fade-in\">Takes into account the deformation of the Earth</li></ul></div>\n",
       "\n",
       "</div>"
      ],
      "text/plain": [
       "<jupylecture.tools.FlexSlide at 0x7f82e4e145b0>"
      ]
     },
     "metadata": {},
     "output_type": "display_data"
    }
   ],
   "source": [
    "slide=FlexSlide(\"# Relative sea level is affected by self attraction and loading (SAL)..\")\n",
    "slide.addmd('<img src=\"/files/images/SLEQsynfig_whitebg.gif\"style=\"width:100%;\"></img>',flxwidth=\"flx60\")\n",
    "slide.addItems(frag=True, flxwidth=\"flx40\",items=[\"Theory goes back to 1888 (Woodward)\",\n",
    "                      \"Modelled as a passive ocean response (no currents)\",\n",
    "                      \"mass conserving\",\n",
    "                      \"Takes into account the deformation of the Earth\"])\n",
    "\n",
    "slide.display()\n"
   ]
  },
  {
   "cell_type": "code",
   "execution_count": 12,
   "metadata": {
    "slideshow": {
     "slide_type": "slide"
    }
   },
   "outputs": [
    {
     "data": {
      "text/html": [
       "<div id=\"eee1ded89f7c2ee7\"></div>\n",
       "    <script type=\"text/javascript\">\n",
       "        $(function(){\n",
       "            var p = $(\"#eee1ded89f7c2ee7\");\n",
       "            if (p.length==0) return;\n",
       "            while (!p.hasClass(\"cell\")) {\n",
       "                p=p.parent();\n",
       "                if (p.prop(\"tagName\") ==\"body\") return;\n",
       "            }\n",
       "            var cell = p;\n",
       "            cell.find(\".input\").addClass(\"hide-in-slideshow\")\n",
       "        });\n",
       "    </script>"
      ]
     },
     "metadata": {},
     "output_type": "display_data"
    },
    {
     "data": {
      "text/markdown": [
       "\n",
       "<div class=\"flxsld text_cell\" ><div class=\"flx100\"><p>Other factors affecting relative sea level?</p></div>\n",
       "\n",
       "\n",
       "<div class=\" flx100 asp16x9\" >\n",
       "\n",
       "<iframe src=\"https://app.wooclap.com/events/IRLIBH/0\" width=\"100%\" height=\"100%\"></iframe></div>\n",
       "\n",
       "</div>"
      ],
      "text/plain": [
       "<jupylecture.tools.FlexSlide at 0x7f82e4e15390>"
      ]
     },
     "metadata": {},
     "output_type": "display_data"
    }
   ],
   "source": [
    "sld=FlexSlide(\"Other factors affecting relative sea level?\")\n",
    "sld.addIframe(\"https://app.wooclap.com/events/IRLIBH/0\")    \n",
    "sld.display()"
   ]
  },
  {
   "cell_type": "code",
   "execution_count": 13,
   "metadata": {
    "slideshow": {
     "slide_type": "slide"
    }
   },
   "outputs": [
    {
     "data": {
      "text/html": [
       "<div id=\"f46d3a1aed7a2665\"></div>\n",
       "    <script type=\"text/javascript\">\n",
       "        $(function(){\n",
       "            var p = $(\"#f46d3a1aed7a2665\");\n",
       "            if (p.length==0) return;\n",
       "            while (!p.hasClass(\"cell\")) {\n",
       "                p=p.parent();\n",
       "                if (p.prop(\"tagName\") ==\"body\") return;\n",
       "            }\n",
       "            var cell = p;\n",
       "            cell.find(\".input\").addClass(\"hide-in-slideshow\")\n",
       "        });\n",
       "    </script>"
      ]
     },
     "metadata": {},
     "output_type": "display_data"
    },
    {
     "data": {
      "text/markdown": [
       "\n",
       "<div class=\"flxsld text_cell\" ><div class=\"flx100\"><h1>Regional sea level budgets</h1></div>\n",
       "\n",
       "\n",
       "<div class=\" flx60\" >\n",
       "\n",
       "<p><img src=\"/files/images/rietbroek2016.png\" alt=\"None\"  /><small>Regional sea level budgets from Rietbroek et al. 2016</small></p></div>\n",
       "<div class=\" flx40\" >\n",
       "\n",
       "<ul><li class=\"fragment fade-in\">Sea level rise is not uniform</li><li class=\"fragment fade-in\">SAL effects</li><li class=\"fragment fade-in\">Thermosteric and ocean bottom pressure changes play a larger role in the regional budgets</li></ul></div>\n",
       "\n",
       "</div>"
      ],
      "text/plain": [
       "<jupylecture.tools.FlexSlide at 0x7f82e4e17e50>"
      ]
     },
     "metadata": {},
     "output_type": "display_data"
    }
   ],
   "source": [
    "slide=FlexSlide(\"# Regional sea level budgets\")\n",
    "slide.addimg(\"/files/images/rietbroek2016.png\",flxwidth=\"flx60\",caption=\"Regional sea level budgets from Rietbroek et al. 2016\")\n",
    "slide.addItems(flxwidth=\"flx40\",frag=True,items=[\"Sea level rise is not uniform\",\"SAL effects\",\"Thermosteric and ocean bottom pressure changes play a larger role in the regional budgets\"])\n",
    "slide.display()"
   ]
  },
  {
   "cell_type": "markdown",
   "metadata": {
    "slideshow": {
     "slide_type": "slide"
    }
   },
   "source": [
    " # Churning the ocean (forcing from wind stress, density contrasts)\n",
    " <img src=\"images/Samudra_manthan.jpg\" alt=\"Drawing\" style=\"width: 500px;\"/>\n",
    " "
   ]
  },
  {
   "cell_type": "markdown",
   "metadata": {
    "cell_style": "split",
    "slideshow": {
     "slide_type": "slide"
    }
   },
   "source": [
    "# Integrating the water column to obtain ocean bottom pressure\n",
    "<img src=\"images/OBP_vs_ssh_obppart.svg\" alt=\"Drawing\" style=\"width: 500px;\"/>\n",
    " \n",
    "\n",
    "\n"
   ]
  },
  {
   "cell_type": "markdown",
   "metadata": {
    "cell_style": "split",
    "slideshow": {
     "slide_type": "fragment"
    }
   },
   "source": [
    "$P_{OBP}=P_{surf}+g\\int_{-Z}^{0} \\rho(z,T,S) dz +g \\rho_{sea}h_{dyn}$"
   ]
  },
  {
   "cell_type": "markdown",
   "metadata": {
    "cell_style": "split",
    "slideshow": {
     "slide_type": "fragment"
    }
   },
   "source": [
    "Steric **change** only (no OBP change):\n",
    "\n",
    "$0=g\\int_{-Z}^{0} \\delta \\rho(z,T,S)dz +g \\rho_{sea}\\delta h_{ster} $\n"
   ]
  },
  {
   "cell_type": "markdown",
   "metadata": {
    "cell_style": "split",
    "slideshow": {
     "slide_type": "fragment"
    }
   },
   "source": [
    "$\\delta h_{ster}=-\\frac{1}{\\rho_{sea}}\\int_{-Z}^{0} \\delta \\rho(z,T,S)dz $"
   ]
  },
  {
   "cell_type": "markdown",
   "metadata": {
    "cell_style": "split",
    "slideshow": {
     "slide_type": "fragment"
    }
   },
   "source": [
    "* $\\delta h_{ster}$ invisible to GRACE!($P_{OBP}=0$)\n",
    "* $\\delta h_{ster}$ **is visible** by radar altimetry!\n",
    "* Density &uarr; results in &darr; of sea level\n",
    "* Wind driven (quick) &rarr; change in $h_{dyn}$\n",
    "* Density driven (slow)&rarr; hdyn ~ hster"
   ]
  },
  {
   "cell_type": "code",
   "execution_count": 14,
   "metadata": {
    "slideshow": {
     "slide_type": "slide"
    }
   },
   "outputs": [
    {
     "data": {
      "text/html": [
       "<div id=\"deee5fdc285c193f\"></div>\n",
       "    <script type=\"text/javascript\">\n",
       "        $(function(){\n",
       "            var p = $(\"#deee5fdc285c193f\");\n",
       "            if (p.length==0) return;\n",
       "            while (!p.hasClass(\"cell\")) {\n",
       "                p=p.parent();\n",
       "                if (p.prop(\"tagName\") ==\"body\") return;\n",
       "            }\n",
       "            var cell = p;\n",
       "            cell.find(\".input\").addClass(\"hide-in-slideshow\")\n",
       "        });\n",
       "    </script>"
      ]
     },
     "metadata": {},
     "output_type": "display_data"
    },
    {
     "data": {
      "text/markdown": [
       "\n",
       "<div class=\"flxsld text_cell\" ><div class=\"flx100\"><p>Quiz time! (again)</p></div>\n",
       "\n",
       "\n",
       "<div class=\" flx100 asp16x9\" >\n",
       "\n",
       "<iframe src=\"https://app.wooclap.com/events/IRLIBH/0\" width=\"100%\" height=\"100%\"></iframe></div>\n",
       "\n",
       "</div>"
      ],
      "text/plain": [
       "<jupylecture.tools.FlexSlide at 0x7f82e4e14880>"
      ]
     },
     "metadata": {},
     "output_type": "display_data"
    }
   ],
   "source": [
    "sld=FlexSlide(\"Quiz time! (again)\")\n",
    "sld.addIframe(\"https://app.wooclap.com/events/IRLIBH/0\")    \n",
    "sld.display()"
   ]
  },
  {
   "cell_type": "code",
   "execution_count": 31,
   "metadata": {
    "slideshow": {
     "slide_type": "slide"
    }
   },
   "outputs": [
    {
     "data": {
      "text/html": [
       "<div id=\"763bc7f1580537b1\"></div>\n",
       "    <script type=\"text/javascript\">\n",
       "        $(function(){\n",
       "            var p = $(\"#763bc7f1580537b1\");\n",
       "            if (p.length==0) return;\n",
       "            while (!p.hasClass(\"cell\")) {\n",
       "                p=p.parent();\n",
       "                if (p.prop(\"tagName\") ==\"body\") return;\n",
       "            }\n",
       "            var cell = p;\n",
       "            cell.find(\".input\").addClass(\"hide-in-slideshow\")\n",
       "        });\n",
       "    </script>"
      ]
     },
     "metadata": {},
     "output_type": "display_data"
    },
    {
     "data": {
      "text/markdown": [
       "\n",
       "<div class=\"flxsld text_cell\" ><div class=\"flx100\"><h1>Early GRACE validation of ocean bottom pressure changes (Kanzow et al. 2005)</h1></div>\n",
       "\n",
       "\n",
       "<div class=\" flx60\" >\n",
       "\n",
       "<ul><li class=\"fragment fade-in\">In situ validation with pressure sensors</li><li class=\"fragment fade-in\">GRACE fluctuations were too large</li><ul><li class=\"fragment fade-in\">Signal leakage</li></ul><ul><li class=\"fragment fade-in\">Processing errors</li></ul></ul></div>\n",
       "<div class=\" flx30\" >\n",
       "\n",
       "<p><img src=\"/files/images/kanzow2005_comb.png\" alt=\"None\"  /></p></div>\n",
       "\n",
       "</div>"
      ],
      "text/plain": [
       "<jupylecture.tools.FlexSlide at 0x7f82e4e17cd0>"
      ]
     },
     "metadata": {},
     "output_type": "display_data"
    }
   ],
   "source": [
    "slide=FlexSlide(\"# Early GRACE validation of ocean bottom pressure changes (Kanzow et al. 2005)\")\n",
    "slide.addItems(flxwidth=\"flx60\",frag=True,items=[\"In situ validation with pressure sensors\",\n",
    "                                                  \"GRACE fluctuations were too large\",\n",
    "                                                 [\"Signal leakage\"],[\"Processing errors\"]])\n",
    "\n",
    "slide.addimg(\"/files/images/kanzow2005_comb.png\",flxwidth=\"flx30\")\n",
    "\n",
    "# slide.addimg(\"/files/images/kanzow2005_site.png\",flxwidth=\"flx50\")\n",
    "\n",
    "\n",
    "\n",
    "\n",
    "slide.display()\n"
   ]
  },
  {
   "cell_type": "code",
   "execution_count": 16,
   "metadata": {
    "slideshow": {
     "slide_type": "slide"
    }
   },
   "outputs": [
    {
     "data": {
      "text/html": [
       "<div id=\"e3351c91f8d7f702\"></div>\n",
       "    <script type=\"text/javascript\">\n",
       "        $(function(){\n",
       "            var p = $(\"#e3351c91f8d7f702\");\n",
       "            if (p.length==0) return;\n",
       "            while (!p.hasClass(\"cell\")) {\n",
       "                p=p.parent();\n",
       "                if (p.prop(\"tagName\") ==\"body\") return;\n",
       "            }\n",
       "            var cell = p;\n",
       "            cell.find(\".input\").addClass(\"hide-in-slideshow\")\n",
       "        });\n",
       "    </script>"
      ]
     },
     "metadata": {},
     "output_type": "display_data"
    },
    {
     "data": {
      "text/markdown": [
       "\n",
       "<div class=\"flxsld text_cell\" ><div class=\"flx100\"><h1>Validation in the Southern Ocean</h1></div>\n",
       "\n",
       "\n",
       "<div class=\" flx40\" >\n",
       "\n",
       "<p><img src=\"/files/images/rietbroek2006.png\" alt=\"None\"  /><small>From Rietbroek et al. 2016</small></p></div>\n",
       "<div class=\" flx50\" >\n",
       "\n",
       "<p><img src=\"/files/images/crozet.png\" alt=\"None\"  /></p></div>\n",
       "<div class=\" flx100\" >\n",
       "\n",
       "<ul><li class=\"fragment fade-in\">In situ validation with pressure sensors</li><li class=\"fragment fade-in\">10-day GRACE solution was better than background model</li><li class=\"fragment fade-in\">Large scale ocean signals picked up</li><li class=\"fragment fade-in\">Due to smoothing geostrophic bottom currents not resolved</li></ul></div>\n",
       "\n",
       "</div>"
      ],
      "text/plain": [
       "<jupylecture.tools.FlexSlide at 0x7f82e4e17f10>"
      ]
     },
     "metadata": {},
     "output_type": "display_data"
    }
   ],
   "source": [
    "slide=FlexSlide(\"# Validation in the Southern Ocean\")\n",
    "\n",
    "slide.addimg(\"/files/images/rietbroek2006.png\",flxwidth=\"flx40\",caption=\"From Rietbroek et al. 2016\")\n",
    "slide.addimg(\"/files/images/crozet.png\",flxwidth=\"flx50\")\n",
    "slide.addItems(flxwidth=\"flx100\",frag=True,items=[\"In situ validation with pressure sensors\",\n",
    "                                                  \"10-day GRACE solution was better than background model\",\n",
    "                                                 \"Large scale ocean signals picked up\",\n",
    "                                                 \"Due to smoothing geostrophic bottom currents not resolved\"])\n",
    "\n",
    "slide.display()"
   ]
  },
  {
   "cell_type": "code",
   "execution_count": 17,
   "metadata": {
    "slideshow": {
     "slide_type": "slide"
    }
   },
   "outputs": [
    {
     "data": {
      "text/html": [
       "<div id=\"44afab282f521dbb\"></div>\n",
       "    <script type=\"text/javascript\">\n",
       "        $(function(){\n",
       "            var p = $(\"#44afab282f521dbb\");\n",
       "            if (p.length==0) return;\n",
       "            while (!p.hasClass(\"cell\")) {\n",
       "                p=p.parent();\n",
       "                if (p.prop(\"tagName\") ==\"body\") return;\n",
       "            }\n",
       "            var cell = p;\n",
       "            cell.find(\".input\").addClass(\"hide-in-slideshow\")\n",
       "        });\n",
       "    </script>"
      ]
     },
     "metadata": {},
     "output_type": "display_data"
    },
    {
     "data": {
      "text/markdown": [
       "\n",
       "<div class=\"flxsld text_cell\" ><div class=\"flx100\"><h1>Geostrophic currents from time variable gravity</h1></div>\n",
       "\n",
       "\n",
       "<div class=\" flx40\" >\n",
       "\n",
       "<p><img src=\"images/Wahr2002.png\" alt=\"None\"  /></p></div>\n",
       "<div class=\" flx40\" >\n",
       "\n",
       "<p><img src=\"images/geostrophic-balance.png\" alt=\"None\"  /><small>CC-NC-SA, https://www.seos-project.eu</small></p></div>\n",
       "<div class=\" flx50\" >\n",
       "\n",
       "<p><img src=\"images/geoeq.svg\" alt=\"None\"  /></p></div>\n",
       "<div class=\" flx50\" >\n",
       "\n",
       "<ul><li class=\"fragment fade-in\">Assume horizontal constant velocities</li><li class=\"fragment fade-in\">cross-product -> latitude dependency</li><li class=\"fragment fade-in\">Velocity is orthogonal to gradient!</li></ul></div>\n",
       "\n",
       "</div>"
      ],
      "text/plain": [
       "<jupylecture.tools.FlexSlide at 0x7f82e4e14e50>"
      ]
     },
     "metadata": {},
     "output_type": "display_data"
    }
   ],
   "source": [
    "slide=FlexSlide(\"# Geostrophic currents from time variable gravity\")\n",
    "slide.addimg(\"images/Wahr2002.png\",flxwidth=\"flx40\")\n",
    "slide.addimg(\"images/geostrophic-balance.png\",flxwidth=\"flx40\",caption=\"CC-NC-SA, https://www.seos-project.eu\")\n",
    "slide.addimg(\"images/geoeq.svg\",flxwidth=\"flx50\")\n",
    "slide.addItems(frag=True,items=[\"Assume horizontal constant velocities\",\"cross-product -> latitude dependency\",\"Velocity is orthogonal to gradient!\"],flxwidth=\"flx50\")\n",
    "slide.display()"
   ]
  },
  {
   "cell_type": "code",
   "execution_count": 18,
   "metadata": {
    "slideshow": {
     "slide_type": "slide"
    }
   },
   "outputs": [
    {
     "data": {
      "text/html": [
       "<div id=\"ad55efa9428a52da\"></div>\n",
       "    <script type=\"text/javascript\">\n",
       "        $(function(){\n",
       "            var p = $(\"#ad55efa9428a52da\");\n",
       "            if (p.length==0) return;\n",
       "            while (!p.hasClass(\"cell\")) {\n",
       "                p=p.parent();\n",
       "                if (p.prop(\"tagName\") ==\"body\") return;\n",
       "            }\n",
       "            var cell = p;\n",
       "            cell.find(\".input\").addClass(\"hide-in-slideshow\")\n",
       "        });\n",
       "    </script>"
      ]
     },
     "metadata": {},
     "output_type": "display_data"
    },
    {
     "data": {
      "text/markdown": [
       "\n",
       "<div class=\"flxsld text_cell\" ><div class=\"flx100\"><h3>Arctic Ocean Bottom pressure variations well captured by GRACE</h3></div>\n",
       "\n",
       "\n",
       "<div class=\" flx40\" >\n",
       "\n",
       "<p><img src=\"images/peralta-ferriz2016.png\" alt=\"None\"  /><small>From Peralta-ferriz et al. 2016</small></p></div>\n",
       "<div class=\" flx60\" >\n",
       "\n",
       "<ul><li class=\"fragment fade-in\">In situ OBP well captured by GRACE</li><li class=\"fragment fade-in\">Coherent OBP signals in the Arctic</li><li class=\"fragment fade-in\">Comparison showed that a single in situ OBP can serve as proxy for the entire Arctic</li></ul></div>\n",
       "\n",
       "</div>"
      ],
      "text/plain": [
       "<jupylecture.tools.FlexSlide at 0x7f82e4e15540>"
      ]
     },
     "metadata": {},
     "output_type": "display_data"
    }
   ],
   "source": [
    "slide=FlexSlide(\"### Arctic Ocean Bottom pressure variations well captured by GRACE\")\n",
    "slide.addimg(\"images/peralta-ferriz2016.png\",flxwidth=\"flx40\",caption=\"From Peralta-ferriz et al. 2016\")\n",
    "slide.addItems(flxwidth=\"flx60\",frag=True,items=[\"In situ OBP well captured by GRACE\",\n",
    "                                                  \"Coherent OBP signals in the Arctic\",\n",
    "                                                 \"Comparison showed that a single in situ OBP can serve as proxy for the entire Arctic\"])\n",
    "slide.display()"
   ]
  },
  {
   "cell_type": "markdown",
   "metadata": {
    "cell_style": "center",
    "slideshow": {
     "slide_type": "slide"
    }
   },
   "source": [
    "### What have you learned? \n",
    "* Adding mass to the ocean\n",
    "    * Observable in time-variable gravity \n",
    "    * GRACE (1.5 - 2 mm/yr global mean ocean mass change)\n",
    "    * Different causes have non-uniform contributions (Ice sheets, hydrology, dam impoundment,..)\n",
    "    * Regional sea level also influenced by: Self attraction and loading\n",
    "* Churning the Ocean (currents and wind)\n",
    "    * Integration of the water column -> OBP\n",
    "    * OBP changes due to dynamic height differences and column density change\n",
    "    * Steric sea level: density driven dynamic height changes under the assumption of no OBP change\n",
    "    * Pressure gradients cause circulation (surface gradient may be different from bottom)\n",
    "\n"
   ]
  },
  {
   "cell_type": "markdown",
   "metadata": {
    "slideshow": {
     "slide_type": "slide"
    }
   },
   "source": [
    "#### Outlook\n",
    "* Still many ocean applications unexplored (geostrophic currents!)\n",
    "* Added value comes from combined data e.g. altimetry, Argo, etc."
   ]
  }
 ],
 "metadata": {
  "celltoolbar": "Slideshow",
  "kernelspec": {
   "display_name": "pyrr",
   "language": "python",
   "name": "pyrr"
  },
  "language_info": {
   "codemirror_mode": {
    "name": "ipython",
    "version": 3
   },
   "file_extension": ".py",
   "mimetype": "text/x-python",
   "name": "python",
   "nbconvert_exporter": "python",
   "pygments_lexer": "ipython3",
   "version": "3.10.7"
  },
  "rise": {
   "autolaunch": true,
   "enable_chalkboard": true,
   "footer": "<div><h3>GRACE Hackweek 2022 (Oceans), R. Rietbroek, Sept 2022</h3></div><div id=\"logobox\"></div>",
   "slideNumber": "c/t",
   "theme": "black",
   "transition": "None"
  }
 },
 "nbformat": 4,
 "nbformat_minor": 4
}
