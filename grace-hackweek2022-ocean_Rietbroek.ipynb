{
 "cells": [
  {
   "cell_type": "code",
   "execution_count": 2,
   "metadata": {
    "slideshow": {
     "slide_type": "skip"
    }
   },
   "outputs": [],
   "source": [
    "%load_ext autoreload\n",
    "%autoreload 2"
   ]
  },
  {
   "cell_type": "code",
   "execution_count": 2,
   "metadata": {
    "slideshow": {
     "slide_type": "skip"
    }
   },
   "outputs": [],
   "source": [
    "from jupylecture.tools import hideCode,FlexSlide"
   ]
  },
  {
   "cell_type": "markdown",
   "metadata": {
    "slideshow": {
     "slide_type": "slide"
    }
   },
   "source": [
    "#  Churning the Ocean: Time variable gravity for ocean applications\n",
    "<img src=\"images/Samudra_manthan.jpg\" alt=\"Drawing\" style=\"width: 60%;\"/>\n",
    "\n",
    "[Samudra Manthan, CC BY 3.0](https://commons.wikimedia.org/w/index.php?curid=106963683)\n",
    "\n",
    "*Roelof Rietbroek, 28 Sept. 2022* \n"
   ]
  },
  {
   "cell_type": "markdown",
   "metadata": {
    "slideshow": {
     "slide_type": "notes"
    }
   },
   "source": [
    "* Hindu story of the Churning of the Ocean, \n",
    "* Two enemies tribes, Devas and Asuras, join efforts to obtain the **nectar of immortality**\n",
    "* Asuras were manipulated and pulled the short straw (or int his case the venomous head of the snake)\n",
    "* But there are anologies with the science we're discussing today\n",
    "\n"
   ]
  },
  {
   "cell_type": "code",
   "execution_count": 5,
   "metadata": {
    "slideshow": {
     "slide_type": "slide"
    }
   },
   "outputs": [
    {
     "data": {
      "text/html": [
       "<div id=\"9f1b4659bee6fc67\"></div>\n",
       "    <script type=\"text/javascript\">\n",
       "        $(function(){\n",
       "            var p = $(\"#9f1b4659bee6fc67\");\n",
       "            if (p.length==0) return;\n",
       "            while (!p.hasClass(\"cell\")) {\n",
       "                p=p.parent();\n",
       "                if (p.prop(\"tagName\") ==\"body\") return;\n",
       "            }\n",
       "            var cell = p;\n",
       "            cell.find(\".input\").addClass(\"hide-in-slideshow\")\n",
       "        });\n",
       "    </script>"
      ]
     },
     "metadata": {},
     "output_type": "display_data"
    },
    {
     "data": {
      "text/markdown": [
       "\n",
       "<div class=\"flxsld text_cell\" ><div class=\"flx100\"><h1>Analogies with today's talk</h1></div>\n",
       "\n",
       "\n",
       "<div class=\" flx60\" >\n",
       "\n",
       "<ul><li class=\"fragment fade-in\">Mount Mandara: Adding mass to the ocean (e.g. melt water)</li><li class=\"fragment fade-in\">Snake Vasuki: set the ocean in motion (e.g. forcing from wind stress)</li><li class=\"fragment fade-in\">Central Question: How can we use time variable gravity to observe ocean signals?</li></ul></div>\n",
       "<div class=\" flx40\" >\n",
       "\n",
       "<p><img src=\"/files/images/Samudra_manthan.jpg\" alt=\"None\"  /></p></div>\n",
       "<div class=\" flx100\" >\n",
       "\n",
       "<p><img src=\"/files/images/gitqrcode.png\" style=\"width:200px;\"><small>Find this presentation on <a href=\"https://github.com/strawpants/grace-hackweek-ocean\">https://github.com/strawpants/grace-hackweek-ocean</a></small></img></p></div>\n",
       "\n",
       "</div>"
      ],
      "text/plain": [
       "<jupylecture.tools.FlexSlide at 0x7fd31c3d1a50>"
      ]
     },
     "metadata": {},
     "output_type": "display_data"
    }
   ],
   "source": [
    "slide=FlexSlide(\"# Analogies with today's talk\")\n",
    "slide.addItems(flxwidth=\"flx60\",frag=True,items=[\"Mount Mandara: Adding mass to the ocean (e.g. melt water)\",\"Snake Vasuki: set the ocean in motion (e.g. forcing from wind stress)\",\n",
    "                                                \"Central Question: How can we use time variable gravity to observe ocean signals?\"])\n",
    "slide.addimg(\"/files/images/Samudra_manthan.jpg\",flxwidth=\"flx40\")\n",
    "slide.addmd('<img src=\"/files/images/gitqrcode.png\" style=\"width:200px;\"><small>Find this presentation on [https://github.com/strawpants/grace-hackweek-ocean](https://github.com/strawpants/grace-hackweek-ocean)</small></img>',flxwidth=\"flx100\")\n",
    "slide.display()"
   ]
  },
  {
   "cell_type": "markdown",
   "metadata": {
    "slideshow": {
     "slide_type": "slide"
    }
   },
   "source": [
    "# Adding mass to the oceans (or removing it)"
   ]
  },
  {
   "cell_type": "code",
   "execution_count": 6,
   "metadata": {
    "slideshow": {
     "slide_type": "slide"
    }
   },
   "outputs": [
    {
     "data": {
      "text/html": [
       "<div id=\"bc1c3cfbd4a41bbf\"></div>\n",
       "    <script type=\"text/javascript\">\n",
       "        $(function(){\n",
       "            var p = $(\"#bc1c3cfbd4a41bbf\");\n",
       "            if (p.length==0) return;\n",
       "            while (!p.hasClass(\"cell\")) {\n",
       "                p=p.parent();\n",
       "                if (p.prop(\"tagName\") ==\"body\") return;\n",
       "            }\n",
       "            var cell = p;\n",
       "            cell.find(\".input\").addClass(\"hide-in-slideshow\")\n",
       "        });\n",
       "    </script>"
      ]
     },
     "metadata": {},
     "output_type": "display_data"
    },
    {
     "data": {
      "text/markdown": [
       "\n",
       "<div class=\"flxsld text_cell\" ><div class=\"flx100\"><h1>Remember the 2010-2011 La Nina event?</h1></div>\n",
       "\n",
       "\n",
       "<div class=\" flx40\" >\n",
       "\n",
       "<p><img src=\"/files/images/australiafloods2.jpg\" alt=\"None\"  /><small>Rockhampton, QLD. Photo by Salvation Army of Australia</small></p></div>\n",
       "<div class=\" flx50\" >\n",
       "\n",
       "<p><img src=\"/files/images/laninaExp.jpg\" alt=\"None\"  /></p></div>\n",
       "<div class=\" flx60\" >\n",
       "\n",
       "<ul><li class=\"fragment fade-in\">Stronger trade winds result in warm ocean blob in the western Pacific</li><li class=\"fragment fade-in\">Wet conditions in the West Pacific cause extreme precipitation</li><li class=\"fragment fade-in\">Detectable in sea level?</li></ul></div>\n",
       "\n",
       "</div>"
      ],
      "text/plain": [
       "<jupylecture.tools.FlexSlide at 0x7fe4ad7f1c30>"
      ]
     },
     "metadata": {},
     "output_type": "display_data"
    }
   ],
   "source": [
    "slide=FlexSlide(\"# Remember the 2010-2011 La Nina event?\")\n",
    "slide.addimg('/files/images/australiafloods2.jpg',flxwidth=\"flx40\",caption=\"Rockhampton, QLD. Photo by Salvation Army of Australia\")\n",
    "slide.addimg(\"/files/images/laninaExp.jpg\",flxwidth=\"flx50\")\n",
    "slide.addItems(flxwidth=\"flx60\",frag=True,items=[\"Stronger trade winds result in warm ocean blob in the western Pacific\", \"Wet conditions in the West Pacific cause extreme precipitation\",\"Detectable in sea level?\"])\n",
    "slide.display()"
   ]
  },
  {
   "cell_type": "code",
   "execution_count": null,
   "metadata": {
    "slideshow": {
     "slide_type": "slide"
    }
   },
   "outputs": [],
   "source": [
    "sld=FlexSlide(\"Quiz time!\")\n",
    "sld.addIframe(\"https://app.wooclap.com/events/IDGQJT/questions/61630615b8c6041208fd2d52\",flxwidth=\"flx100\")    \n",
    "sld.display()"
   ]
  },
  {
   "cell_type": "code",
   "execution_count": 7,
   "metadata": {
    "slideshow": {
     "slide_type": "slide"
    }
   },
   "outputs": [
    {
     "data": {
      "text/html": [
       "<div id=\"2a0adbe97ea3d260\"></div>\n",
       "    <script type=\"text/javascript\">\n",
       "        $(function(){\n",
       "            var p = $(\"#2a0adbe97ea3d260\");\n",
       "            if (p.length==0) return;\n",
       "            while (!p.hasClass(\"cell\")) {\n",
       "                p=p.parent();\n",
       "                if (p.prop(\"tagName\") ==\"body\") return;\n",
       "            }\n",
       "            var cell = p;\n",
       "            cell.find(\".input\").addClass(\"hide-in-slideshow\")\n",
       "        });\n",
       "    </script>"
      ]
     },
     "metadata": {},
     "output_type": "display_data"
    },
    {
     "data": {
      "text/markdown": [
       "\n",
       "<div class=\"flxsld text_cell\" ><div class=\"flx100\"><h1>2010-2011 La Nina event (2)</h1></div>\n",
       "\n",
       "\n",
       "<div class=\" flx40\" >\n",
       "\n",
       "<p><img src=\"/files/images/lanina1.png\" alt=\"None\"  /><small>Global mean sea level variations (total, mass driven and 'steric'), From Böning et al. 2012</small></p></div>\n",
       "<div class=\" flx50\" >\n",
       "\n",
       "<p><img src=\"/files/images/lanina2.png\" alt=\"None\"  /><small>Terrestrial water storage change (2010-2011) from GRACE, From Böning et al. 2012</small></p></div>\n",
       "<div class=\" flx100\" >\n",
       "\n",
       "<ul><li class=\"fragment fade-in\">Detectable with radar altimetry</li><li class=\"fragment fade-in\">Can be explained by mass-driven sea level (GRACE)</li><li class=\"fragment fade-in\">Hotspot:Australia</li></ul></div>\n",
       "\n",
       "</div>"
      ],
      "text/plain": [
       "<jupylecture.tools.FlexSlide at 0x7fe4ad7f1450>"
      ]
     },
     "metadata": {},
     "output_type": "display_data"
    }
   ],
   "source": [
    "slide=FlexSlide(\"# 2010-2011 La Nina event (2)\")\n",
    "slide.addimg(\"/files/images/lanina1.png\",flxwidth=\"flx40\",caption=\"Global mean sea level variations (total, mass driven and 'steric'), From Böning et al. 2012\")\n",
    "slide.addimg(\"/files/images/lanina2.png\",flxwidth=\"flx50\",caption=\"Terrestrial water storage change (2010-2011) from GRACE, From Böning et al. 2012\")\n",
    "\n",
    "slide.addItems(flxwidth=\"flx100\",frag=True,items=[\"Detectable with radar altimetry\", \n",
    "                                                 \"Can be explained by mass-driven sea level (GRACE)\",\n",
    "                                                 \"Hotspot:Australia\"])\n",
    "\n",
    "slide.display()"
   ]
  },
  {
   "cell_type": "code",
   "execution_count": 5,
   "metadata": {
    "slideshow": {
     "slide_type": "slide"
    }
   },
   "outputs": [
    {
     "data": {
      "text/html": [
       "<div id=\"f323f4a7116a5f3f\"></div>\n",
       "    <script type=\"text/javascript\">\n",
       "        $(function(){\n",
       "            var p = $(\"#f323f4a7116a5f3f\");\n",
       "            if (p.length==0) return;\n",
       "            while (!p.hasClass(\"cell\")) {\n",
       "                p=p.parent();\n",
       "                if (p.prop(\"tagName\") ==\"body\") return;\n",
       "            }\n",
       "            var cell = p;\n",
       "            cell.find(\".input\").addClass(\"hide-in-slideshow\")\n",
       "        });\n",
       "    </script>"
      ]
     },
     "metadata": {},
     "output_type": "display_data"
    },
    {
     "data": {
      "text/markdown": [
       "\n",
       "<div class=\"flxsld text_cell\" ><div class=\"flx100\"><h1>Sea level contributions since 1900</h1></div>\n",
       "\n",
       "\n",
       "<div class=\" flx50\" >\n",
       "\n",
       "<p><img src=\"/files/images/Frederikse2020.png\" alt=\"None\"  /><small>Historic sea level can be largely explained with different (modelled) sea level contributions. From Frederikse et al. 2020</small></p></div>\n",
       "<div class=\" flx50\" >\n",
       "\n",
       "<ul><li class=\"fragment fade-in\">Historic sea level curve can be inferred from tide gauges</li><li class=\"fragment fade-in\">Uncertainty is larger for early period (sparse obs.)</li><li class=\"fragment fade-in\">Strong interannual fluctuations in mass (barystatic)</li><li class=\"fragment fade-in\">Altimetry only since ~1990 (~3.3 mm/yr)</li><li class=\"fragment fade-in\">Budget can be closed within uncertainties</li><li class=\"fragment fade-in\">Recent accelerations from icesheets and glaciers -> (observable by GRACE since 2002)</li></ul></div>\n",
       "\n",
       "</div>"
      ],
      "text/plain": [
       "<jupylecture.tools.FlexSlide at 0x7fd51eff11e0>"
      ]
     },
     "metadata": {},
     "output_type": "display_data"
    }
   ],
   "source": [
    "slide=FlexSlide(\"# Sea level contributions since 1900\")\n",
    "slide.addimg(\"/files/images/Frederikse2020.png\",flxwidth=\"flx50\",caption=\"Historic sea level can be largely explained with different (modelled) sea level contributions. From Frederikse et al. 2020\")\n",
    "slide.addItems(flxwidth=\"flx50\",frag=True,items=[\"Historic sea level curve can be inferred from tide gauges\",\"Uncertainty is larger for early period (sparse obs.)\",\n",
    "                                                 \"Strong interannual fluctuations in mass (barystatic)\",\n",
    "                                                 \"Altimetry only since ~1990 (~3.3 mm/yr)\",\n",
    "                                                \"Budget can be closed within uncertainties\",\n",
    "                                                \"Recent accelerations from icesheets and glaciers -> (observable by GRACE since 2002)\"])\n",
    "slide.display()\n",
    "\n",
    "\n"
   ]
  },
  {
   "cell_type": "code",
   "execution_count": 6,
   "metadata": {
    "slideshow": {
     "slide_type": "slide"
    }
   },
   "outputs": [
    {
     "data": {
      "text/html": [
       "<div id=\"3b6b806c50e7f764\"></div>\n",
       "    <script type=\"text/javascript\">\n",
       "        $(function(){\n",
       "            var p = $(\"#3b6b806c50e7f764\");\n",
       "            if (p.length==0) return;\n",
       "            while (!p.hasClass(\"cell\")) {\n",
       "                p=p.parent();\n",
       "                if (p.prop(\"tagName\") ==\"body\") return;\n",
       "            }\n",
       "            var cell = p;\n",
       "            cell.find(\".input\").addClass(\"hide-in-slideshow\")\n",
       "        });\n",
       "    </script>"
      ]
     },
     "metadata": {},
     "output_type": "display_data"
    },
    {
     "data": {
      "text/markdown": [
       "\n",
       "<div class=\"flxsld text_cell\" ><div class=\"flx100\"><h1>Ocean mass from GRACE (Theory)</h1></div>\n",
       "\n",
       "\n",
       "<div class=\" flx50\" >\n",
       "\n",
       "<p><img src=\"/files/images/SwensonWahr2002.png\" alt=\"None\"  /></p></div>\n",
       "<div class=\" flx50\" >\n",
       "\n",
       "<p><img src=\"images/Averagingformula.png\" alt=\"None\"  /></p></div>\n",
       "<div  >\n",
       "\n",
       "<ul><li class=\"fragment fade-in\">Approach 1: Average over glacier and icesheet regions and sum up</li><li class=\"fragment fade-in\">Or approach 2: directly average over the ocean</li><li class=\"fragment fade-in\">Oteher approaches (e.g. inverse problems)</li><li class=\"fragment fade-in\">Averaging can be done purely in the spectral domain</li><ul><li class=\"fragment fade-in\">dot product of smoothed basin coefficients with GRACE-TWS coefficients</li></ul></ul></div>\n",
       "\n",
       "</div>"
      ],
      "text/plain": [
       "<jupylecture.tools.FlexSlide at 0x7fd51eff13f0>"
      ]
     },
     "metadata": {},
     "output_type": "display_data"
    }
   ],
   "source": [
    "slide=FlexSlide(\"# Ocean mass from GRACE (Theory)\")\n",
    "slide.addimg(\"/files/images/SwensonWahr2002.png\",flxwidth=\"flx50\")\n",
    "slide.addimg(\"images/Averagingformula.png\",flxwidth=\"flx50\")\n",
    "\n",
    "slide.addItems(frag=True,items=[\"Approach 1: Average over glacier and icesheet regions and sum up\",\n",
    "                                \"Or approach 2: directly average over the ocean\",\n",
    "                                \"Oteher approaches (e.g. inverse problems)\",\n",
    "                                \"Averaging can be done purely in the spectral domain\",[\"dot product of smoothed basin coefficients with GRACE-TWS coefficients\"]])\n",
    "slide.display()"
   ]
  },
  {
   "cell_type": "code",
   "execution_count": 10,
   "metadata": {
    "slideshow": {
     "slide_type": "slide"
    }
   },
   "outputs": [
    {
     "data": {
      "text/html": [
       "<div id=\"d8ede3b2039dc625\"></div>\n",
       "    <script type=\"text/javascript\">\n",
       "        $(function(){\n",
       "            var p = $(\"#d8ede3b2039dc625\");\n",
       "            if (p.length==0) return;\n",
       "            while (!p.hasClass(\"cell\")) {\n",
       "                p=p.parent();\n",
       "                if (p.prop(\"tagName\") ==\"body\") return;\n",
       "            }\n",
       "            var cell = p;\n",
       "            cell.find(\".input\").addClass(\"hide-in-slideshow\")\n",
       "        });\n",
       "    </script>"
      ]
     },
     "metadata": {},
     "output_type": "display_data"
    },
    {
     "data": {
      "text/markdown": [
       "\n",
       "<div class=\"flxsld text_cell\" ><div class=\"flx100\"><h1>Ocean mass from GRACE (Praxis)</h1></div>\n",
       "\n",
       "\n",
       "<div class=\" flx100\" >\n",
       "\n",
       "<p><img src=\"/files/images/Uebbing2019.png\" alt=\"None\"  /><small>Effect of different processing choices on ocean mass estimates, from Uebbing et al. 2019</small></p></div>\n",
       "<div  >\n",
       "\n",
       "<ul><li class=\"fragment fade-in\">Processing choices introduce uncertainties in trends</li><ul><li class=\"fragment fade-in\">Correction for glacial isostatic adjustment</li><li class=\"fragment fade-in\">restoring background models (GAC, GAD)</li><li class=\"fragment fade-in\">but also averaging region</li><li class=\"fragment fade-in\">Current mass trends ~1.5-2mm/yr (c.f. total trend ~3.3 mm/yr)</li></ul></ul></div>\n",
       "\n",
       "</div>"
      ],
      "text/plain": [
       "<jupylecture.tools.FlexSlide at 0x7fe4ad7f0160>"
      ]
     },
     "metadata": {},
     "output_type": "display_data"
    }
   ],
   "source": [
    "slide=FlexSlide(\"# Ocean mass from GRACE (Praxis)\")\n",
    "slide.addimg(\"/files/images/Uebbing2019.png\",flxwidth=\"flx100\",caption=\"Effect of different processing choices on ocean mass estimates, from Uebbing et al. 2019\")\n",
    "slide.addItems(frag=True,items=[\"Processing choices introduce uncertainties in trends\",[\"Correction for glacial isostatic adjustment\", \"restoring background models (GAC, GAD)\",\n",
    "                                                                              \"but also averaging region\", \"Current mass trends ~1.5-2mm/yr (c.f. total trend ~3.3 mm/yr)\"]])\n",
    "slide.display()"
   ]
  },
  {
   "cell_type": "code",
   "execution_count": 11,
   "metadata": {
    "slideshow": {
     "slide_type": "slide"
    }
   },
   "outputs": [
    {
     "data": {
      "text/html": [
       "<div id=\"6adda740d33fa47f\"></div>\n",
       "    <script type=\"text/javascript\">\n",
       "        $(function(){\n",
       "            var p = $(\"#6adda740d33fa47f\");\n",
       "            if (p.length==0) return;\n",
       "            while (!p.hasClass(\"cell\")) {\n",
       "                p=p.parent();\n",
       "                if (p.prop(\"tagName\") ==\"body\") return;\n",
       "            }\n",
       "            var cell = p;\n",
       "            cell.find(\".input\").addClass(\"hide-in-slideshow\")\n",
       "        });\n",
       "    </script>"
      ]
     },
     "metadata": {},
     "output_type": "display_data"
    },
    {
     "data": {
      "text/markdown": [
       "\n",
       "<div class=\"flxsld text_cell\" ><div class=\"flx100\"><h2>Ocean mass can also be retrieved from the SWARM Mission</h2></div>\n",
       "\n",
       "\n",
       "<div class=\" flx50\" >\n",
       "\n",
       "<p><img src=\"/files/images/Lueck2018.png\" alt=\"None\"  /><small>Comparison of ocean mass from GRACE and the SWARM (A,B,C satellites). Update of Luck et al. 2018</small></p></div>\n",
       "<div class=\" flx50\" >\n",
       "\n",
       "<p><img src=\"files/images/swarm.jpg\" alt=\"None\"  /></p></div>\n",
       "<div class=\" flx80\" >\n",
       "\n",
       "<ul><li class=\"fragment fade-in\">SWARM has no inter-satellite tracking, but precise orbits (sat. A,B and C)</li><li class=\"fragment fade-in\">Precise (kinematic) orbits contain information on low-resolution gravity changes -> ocean scales</li><li class=\"fragment fade-in\">Principle is useful for filling gaps and potentially pre-GRACE era</li></ul></div>\n",
       "\n",
       "</div>"
      ],
      "text/plain": [
       "<jupylecture.tools.FlexSlide at 0x7fe4ad7f25f0>"
      ]
     },
     "metadata": {},
     "output_type": "display_data"
    }
   ],
   "source": [
    "slide=FlexSlide(\"## Ocean mass can also be retrieved from the SWARM Mission\")\n",
    "slide.addimg(\"/files/images/Lueck2018.png\",flxwidth=\"flx50\",caption=\"Comparison of ocean mass from GRACE and the SWARM (A,B,C satellites). Update of Luck et al. 2018\")\n",
    "slide.addimg(\"files/images/swarm.jpg\",flxwidth=\"flx50\")\n",
    "\n",
    "slide.addItems(flxwidth=\"flx80\",frag=True,items=[\"SWARM has no inter-satellite tracking, but precise orbits (sat. A,B and C)\",\n",
    "               \"Precise (kinematic) orbits contain information on low-resolution gravity changes -> ocean scales\",\n",
    "                                                \"Principle is useful for filling gaps and potentially pre-GRACE era\"])\n",
    "slide.display()"
   ]
  },
  {
   "cell_type": "code",
   "execution_count": null,
   "metadata": {
    "slideshow": {
     "slide_type": "slide"
    }
   },
   "outputs": [],
   "source": [
    "sld=FlexSlide(\"Regional sea level\")\n",
    "sld.addIframe(\"https://app.wooclap.com/events/IDGQJT/questions/616356619777aa121f479b49\")    \n",
    "sld.display()"
   ]
  },
  {
   "cell_type": "code",
   "execution_count": 12,
   "metadata": {
    "slideshow": {
     "slide_type": "slide"
    }
   },
   "outputs": [
    {
     "data": {
      "text/html": [
       "<div id=\"6cc540bba42d1442\"></div>\n",
       "    <script type=\"text/javascript\">\n",
       "        $(function(){\n",
       "            var p = $(\"#6cc540bba42d1442\");\n",
       "            if (p.length==0) return;\n",
       "            while (!p.hasClass(\"cell\")) {\n",
       "                p=p.parent();\n",
       "                if (p.prop(\"tagName\") ==\"body\") return;\n",
       "            }\n",
       "            var cell = p;\n",
       "            cell.find(\".input\").addClass(\"hide-in-slideshow\")\n",
       "        });\n",
       "    </script>"
      ]
     },
     "metadata": {},
     "output_type": "display_data"
    },
    {
     "data": {
      "text/markdown": [
       "\n",
       "<div class=\"flxsld text_cell\" ><div class=\"flx100\"><h1>Relative sea level is affected by self attraction and loading (SAL)..</h1></div>\n",
       "\n",
       "\n",
       "<div class=\" flx60\" >\n",
       "\n",
       "<p><img src=\"/files/images/SLEQsynfig_whitebg.gif\"style=\"width:100%;\"></img></p></div>\n",
       "<div class=\" flx40\" >\n",
       "\n",
       "<ul><li class=\"fragment fade-in\">Theory goes back to 1888 (Woodward)</li><li class=\"fragment fade-in\">Modelled as a passive ocean response (no currents)</li><li class=\"fragment fade-in\">mass conserving</li><li class=\"fragment fade-in\">Takes into account the deformation of the Earth</li></ul></div>\n",
       "\n",
       "</div>"
      ],
      "text/plain": [
       "<jupylecture.tools.FlexSlide at 0x7fe4ad7f00a0>"
      ]
     },
     "metadata": {},
     "output_type": "display_data"
    }
   ],
   "source": [
    "slide=FlexSlide(\"# Relative sea level is affected by self attraction and loading (SAL)..\")\n",
    "slide.addmd('<img src=\"/files/images/SLEQsynfig_whitebg.gif\"style=\"width:100%;\"></img>',flxwidth=\"flx60\")\n",
    "slide.addItems(frag=True, flxwidth=\"flx40\",items=[\"Theory goes back to 1888 (Woodward)\",\n",
    "                      \"Modelled as a passive ocean response (no currents)\",\n",
    "                      \"mass conserving\",\n",
    "                      \"Takes into account the deformation of the Earth\"])\n",
    "\n",
    "slide.display()\n"
   ]
  },
  {
   "cell_type": "code",
   "execution_count": null,
   "metadata": {
    "slideshow": {
     "slide_type": "slide"
    }
   },
   "outputs": [],
   "source": [
    "sld=FlexSlide(\"Other factors affecting relative sea level?\")\n",
    "sld.addIframe(\"https://app.wooclap.com/events/IDGQJT/questions/6163594df830731203b4299c\")    \n",
    "sld.display()"
   ]
  },
  {
   "cell_type": "code",
   "execution_count": 13,
   "metadata": {
    "slideshow": {
     "slide_type": "slide"
    }
   },
   "outputs": [
    {
     "data": {
      "text/html": [
       "<div id=\"3404a6dcedc7ddc9\"></div>\n",
       "    <script type=\"text/javascript\">\n",
       "        $(function(){\n",
       "            var p = $(\"#3404a6dcedc7ddc9\");\n",
       "            if (p.length==0) return;\n",
       "            while (!p.hasClass(\"cell\")) {\n",
       "                p=p.parent();\n",
       "                if (p.prop(\"tagName\") ==\"body\") return;\n",
       "            }\n",
       "            var cell = p;\n",
       "            cell.find(\".input\").addClass(\"hide-in-slideshow\")\n",
       "        });\n",
       "    </script>"
      ]
     },
     "metadata": {},
     "output_type": "display_data"
    },
    {
     "data": {
      "text/markdown": [
       "\n",
       "<div class=\"flxsld text_cell\" ><div class=\"flx100\"><h1>Regional sea level budgets</h1></div>\n",
       "\n",
       "\n",
       "<div class=\" flx60\" >\n",
       "\n",
       "<p><img src=\"/files/images/rietbroek2016.png\" alt=\"None\"  /><small>Regional sea level budgets from Rietbroek et al. 2016</small></p></div>\n",
       "<div class=\" flx40\" >\n",
       "\n",
       "<ul><li class=\"fragment fade-in\">Sea level rise is not uniform</li><li class=\"fragment fade-in\">SAL effects</li><li class=\"fragment fade-in\">Thermosteric and ocean bottom pressure changes play a larger role in the regional budgets</li></ul></div>\n",
       "\n",
       "</div>"
      ],
      "text/plain": [
       "<jupylecture.tools.FlexSlide at 0x7fe4ad7f2620>"
      ]
     },
     "metadata": {},
     "output_type": "display_data"
    }
   ],
   "source": [
    "slide=FlexSlide(\"# Regional sea level budgets\")\n",
    "slide.addimg(\"/files/images/rietbroek2016.png\",flxwidth=\"flx60\",caption=\"Regional sea level budgets from Rietbroek et al. 2016\")\n",
    "slide.addItems(flxwidth=\"flx40\",frag=True,items=[\"Sea level rise is not uniform\",\"SAL effects\",\"Thermosteric and ocean bottom pressure changes play a larger role in the regional budgets\"])\n",
    "slide.display()"
   ]
  },
  {
   "cell_type": "markdown",
   "metadata": {
    "slideshow": {
     "slide_type": "slide"
    }
   },
   "source": [
    " # Churning the ocean (forcing from wind stress, density contrasts)\n",
    " <img src=\"images/Samudra_manthan.jpg\" alt=\"Drawing\" style=\"width: 500px;\"/>\n",
    " "
   ]
  },
  {
   "cell_type": "markdown",
   "metadata": {
    "cell_style": "split",
    "slideshow": {
     "slide_type": "slide"
    }
   },
   "source": [
    "# Integrating the water column to obtain ocean bottom pressure\n",
    "<img src=\"images/OBP_vs_ssh_obppart.svg\" alt=\"Drawing\" style=\"width: 500px;\"/>\n",
    " \n",
    "\n",
    "\n"
   ]
  },
  {
   "cell_type": "markdown",
   "metadata": {
    "cell_style": "split",
    "slideshow": {
     "slide_type": "fragment"
    }
   },
   "source": [
    "$P_{OBP}=P_{surf}+g\\int_{-Z}^{0} \\rho(z,T,S) dz +g \\rho_{sea}h_{dyn}$"
   ]
  },
  {
   "cell_type": "markdown",
   "metadata": {
    "cell_style": "split",
    "slideshow": {
     "slide_type": "fragment"
    }
   },
   "source": [
    "Steric **change** only (no OBP change):\n",
    "\n",
    "\n",
    "\n",
    "$0=g\\int_{-Z}^{0} \\delta \\rho(z,T,S)dz +g \\rho_{sea}\\delta h_{ster} $\n"
   ]
  },
  {
   "cell_type": "markdown",
   "metadata": {
    "cell_style": "split",
    "slideshow": {
     "slide_type": "fragment"
    }
   },
   "source": [
    "Results in:\n",
    "\n",
    "\n",
    "$\\delta h_{ster}=-\\frac{1}{\\rho_{sea}}\\int_{-Z}^{0} \\delta \\rho(z,T,S)dz $"
   ]
  },
  {
   "cell_type": "markdown",
   "metadata": {
    "cell_style": "split",
    "slideshow": {
     "slide_type": "fragment"
    }
   },
   "source": [
    "* Invisible to GRACE-like satellites! (Assumes no ocean bottom pressure change)\n",
    "* But visible by radar altimetry!\n",
    "* Density increase results in lowering of sea level\n",
    "\n",
    "Generally:\n",
    "* Wind driven changes -> change in hdyn (quick)\n",
    "* Density driven changes -> ocean responds close to hster (slow)"
   ]
  },
  {
   "cell_type": "code",
   "execution_count": null,
   "metadata": {
    "slideshow": {
     "slide_type": "slide"
    }
   },
   "outputs": [],
   "source": [
    "sld=FlexSlide(\"Quiz time! (again)\")\n",
    "sld.addIframe(\"https://app.wooclap.com/events/IDGQJT/questions/6163faf07a387711dec8d093\")    \n",
    "sld.display()"
   ]
  },
  {
   "cell_type": "code",
   "execution_count": 14,
   "metadata": {
    "slideshow": {
     "slide_type": "slide"
    }
   },
   "outputs": [
    {
     "data": {
      "text/html": [
       "<div id=\"9cbce7e63457590c\"></div>\n",
       "    <script type=\"text/javascript\">\n",
       "        $(function(){\n",
       "            var p = $(\"#9cbce7e63457590c\");\n",
       "            if (p.length==0) return;\n",
       "            while (!p.hasClass(\"cell\")) {\n",
       "                p=p.parent();\n",
       "                if (p.prop(\"tagName\") ==\"body\") return;\n",
       "            }\n",
       "            var cell = p;\n",
       "            cell.find(\".input\").addClass(\"hide-in-slideshow\")\n",
       "        });\n",
       "    </script>"
      ]
     },
     "metadata": {},
     "output_type": "display_data"
    },
    {
     "data": {
      "text/markdown": [
       "\n",
       "<div class=\"flxsld text_cell\" ><div class=\"flx100\"><h1>Early GRACE validation of ocean bottom pressure changes (Kanzow et al. 2005)</h1></div>\n",
       "\n",
       "\n",
       "<div class=\" flx50\" >\n",
       "\n",
       "<ul><li class=\"fragment fade-in\">In situ validation with pressure sensors</li><li class=\"fragment fade-in\">GRACE fluctuations were too large</li><ul><li class=\"fragment fade-in\">Signal leakage</li></ul><ul><li class=\"fragment fade-in\">Processing errors</li></ul></ul></div>\n",
       "<div class=\" flx50\" >\n",
       "\n",
       "<p><img src=\"/files/images/kanzow2005_site.png\" alt=\"None\"  /></p></div>\n",
       "<div class=\" flx50\" >\n",
       "\n",
       "<p><img src=\"/files/images/kanzow2005.png\" alt=\"None\"  /></p></div>\n",
       "\n",
       "</div>"
      ],
      "text/plain": [
       "<jupylecture.tools.FlexSlide at 0x7fe4ad7f1c90>"
      ]
     },
     "metadata": {},
     "output_type": "display_data"
    }
   ],
   "source": [
    "slide=FlexSlide(\"# Early GRACE validation of ocean bottom pressure changes (Kanzow et al. 2005)\")\n",
    "slide.addItems(flxwidth=\"flx50\",frag=True,items=[\"In situ validation with pressure sensors\",\n",
    "                                                  \"GRACE fluctuations were too large\",\n",
    "                                                 [\"Signal leakage\"],[\"Processing errors\"]])\n",
    "\n",
    "slide.addimg(\"/files/images/kanzow2005_site.png\",flxwidth=\"flx50\")\n",
    "slide.addimg(\"/files/images/kanzow2005.png\",flxwidth=\"flx50\")\n",
    "slide.display()\n",
    "# * Kanzow vs Rietbroek, why does and why doesn't it work\n",
    "# * Cecilia Peralta-Ferriz \n",
    "\n",
    "# ![Kanzow](images/kanzow2005.png)\n",
    "# ![Rietbroek](images/rietbroek2006.png)"
   ]
  },
  {
   "cell_type": "code",
   "execution_count": 15,
   "metadata": {
    "slideshow": {
     "slide_type": "slide"
    }
   },
   "outputs": [
    {
     "data": {
      "text/html": [
       "<div id=\"ffc8ac5b9e2e8e9a\"></div>\n",
       "    <script type=\"text/javascript\">\n",
       "        $(function(){\n",
       "            var p = $(\"#ffc8ac5b9e2e8e9a\");\n",
       "            if (p.length==0) return;\n",
       "            while (!p.hasClass(\"cell\")) {\n",
       "                p=p.parent();\n",
       "                if (p.prop(\"tagName\") ==\"body\") return;\n",
       "            }\n",
       "            var cell = p;\n",
       "            cell.find(\".input\").addClass(\"hide-in-slideshow\")\n",
       "        });\n",
       "    </script>"
      ]
     },
     "metadata": {},
     "output_type": "display_data"
    },
    {
     "data": {
      "text/markdown": [
       "\n",
       "<div class=\"flxsld text_cell\" ><div class=\"flx100\"><h1>Validation in the Southern Ocean</h1></div>\n",
       "\n",
       "\n",
       "<div class=\" flx40\" >\n",
       "\n",
       "<p><img src=\"/files/images/rietbroek2006.png\" alt=\"None\"  /><small>From Rietbroek et al. 2016</small></p></div>\n",
       "<div class=\" flx50\" >\n",
       "\n",
       "<p><img src=\"/files/images/crozet.png\" alt=\"None\"  /></p></div>\n",
       "<div class=\" flx100\" >\n",
       "\n",
       "<ul><li class=\"fragment fade-in\">In situ validation with pressure sensors</li><li class=\"fragment fade-in\">10-day GRACE solution was better than background model</li><li class=\"fragment fade-in\">Large scale ocean signals picked up</li><li class=\"fragment fade-in\">Due to smoothing geostrophic bottom currents not resolved</li></ul></div>\n",
       "\n",
       "</div>"
      ],
      "text/plain": [
       "<jupylecture.tools.FlexSlide at 0x7fe4ad7f01c0>"
      ]
     },
     "metadata": {},
     "output_type": "display_data"
    }
   ],
   "source": [
    "slide=FlexSlide(\"# Validation in the Southern Ocean\")\n",
    "\n",
    "slide.addimg(\"/files/images/rietbroek2006.png\",flxwidth=\"flx40\",caption=\"From Rietbroek et al. 2016\")\n",
    "slide.addimg(\"/files/images/crozet.png\",flxwidth=\"flx50\")\n",
    "slide.addItems(flxwidth=\"flx100\",frag=True,items=[\"In situ validation with pressure sensors\",\n",
    "                                                  \"10-day GRACE solution was better than background model\",\n",
    "                                                 \"Large scale ocean signals picked up\",\n",
    "                                                 \"Due to smoothing geostrophic bottom currents not resolved\"])\n",
    "\n",
    "slide.display()\n",
    "# * Kanzow vs Rietbroek, why does and why doesn't it work\n",
    "# * Cecilia Peralta-Ferriz \n",
    "\n",
    "# ![Kanzow](images/kanzow2005.png)\n",
    "# ![Rietbroek](images/rietbroek2006.png)"
   ]
  },
  {
   "cell_type": "code",
   "execution_count": 16,
   "metadata": {
    "slideshow": {
     "slide_type": "slide"
    }
   },
   "outputs": [
    {
     "data": {
      "text/html": [
       "<div id=\"1d65e0095b672ea2\"></div>\n",
       "    <script type=\"text/javascript\">\n",
       "        $(function(){\n",
       "            var p = $(\"#1d65e0095b672ea2\");\n",
       "            if (p.length==0) return;\n",
       "            while (!p.hasClass(\"cell\")) {\n",
       "                p=p.parent();\n",
       "                if (p.prop(\"tagName\") ==\"body\") return;\n",
       "            }\n",
       "            var cell = p;\n",
       "            cell.find(\".input\").addClass(\"hide-in-slideshow\")\n",
       "        });\n",
       "    </script>"
      ]
     },
     "metadata": {},
     "output_type": "display_data"
    },
    {
     "data": {
      "text/markdown": [
       "\n",
       "<div class=\"flxsld text_cell\" ><div class=\"flx100\"><h1>Geostrophic currents from time variable gravity</h1></div>\n",
       "\n",
       "\n",
       "<div class=\" flx40\" >\n",
       "\n",
       "<p><img src=\"/files/images/Wahr2002.png\" alt=\"None\"  /></p></div>\n",
       "<div class=\" flx40\" >\n",
       "\n",
       "<p><img src=\"/files/images/geostrophic-balance.png\" alt=\"None\"  /><small>CC-NC-SA, https://www.seos-project.eu</small></p></div>\n",
       "<div class=\" flx50\" >\n",
       "\n",
       "<p><img src=\"/files/images/geoeq.svg\" alt=\"None\"  /></p></div>\n",
       "<div class=\" flx50\" >\n",
       "\n",
       "<ul><li class=\"fragment fade-in\">Assume horizontal constant velocities</li><li class=\"fragment fade-in\">cross-product -> latitude dependency</li><li class=\"fragment fade-in\">Velocity is orthogonal to gradient!</li></ul></div>\n",
       "\n",
       "</div>"
      ],
      "text/plain": [
       "<jupylecture.tools.FlexSlide at 0x7fe4ad7f2b30>"
      ]
     },
     "metadata": {},
     "output_type": "display_data"
    }
   ],
   "source": [
    "slide=FlexSlide(\"# Geostrophic currents from time variable gravity\")\n",
    "slide.addimg(\"/files/images/Wahr2002.png\",flxwidth=\"flx40\")\n",
    "slide.addimg(\"/files/images/geostrophic-balance.png\",flxwidth=\"flx40\",caption=\"CC-NC-SA, https://www.seos-project.eu\")\n",
    "slide.addimg(\"/files/images/geoeq.svg\",flxwidth=\"flx50\")\n",
    "slide.addItems(frag=True,items=[\"Assume horizontal constant velocities\",\"cross-product -> latitude dependency\",\"Velocity is orthogonal to gradient!\"],flxwidth=\"flx50\")\n",
    "slide.display()"
   ]
  },
  {
   "cell_type": "code",
   "execution_count": 17,
   "metadata": {
    "slideshow": {
     "slide_type": "slide"
    }
   },
   "outputs": [
    {
     "data": {
      "text/html": [
       "<div id=\"7625da28261b331f\"></div>\n",
       "    <script type=\"text/javascript\">\n",
       "        $(function(){\n",
       "            var p = $(\"#7625da28261b331f\");\n",
       "            if (p.length==0) return;\n",
       "            while (!p.hasClass(\"cell\")) {\n",
       "                p=p.parent();\n",
       "                if (p.prop(\"tagName\") ==\"body\") return;\n",
       "            }\n",
       "            var cell = p;\n",
       "            cell.find(\".input\").addClass(\"hide-in-slideshow\")\n",
       "        });\n",
       "    </script>"
      ]
     },
     "metadata": {},
     "output_type": "display_data"
    },
    {
     "data": {
      "text/markdown": [
       "\n",
       "<div class=\"flxsld text_cell\" ><div class=\"flx100\"><h3>Arctic Ocean Bottom pressure variations well captured by GRACE</h3></div>\n",
       "\n",
       "\n",
       "<div class=\" flx40\" >\n",
       "\n",
       "<p><img src=\"/files/images/peralta-ferriz2016.png\" alt=\"None\"  /><small>From Peralta-ferriz et al. 2016</small></p></div>\n",
       "<div class=\" flx60\" >\n",
       "\n",
       "<ul><li class=\"fragment fade-in\">In situ OBP well captured by GRACE</li><li class=\"fragment fade-in\">Coherent OBP signals in the Arctic</li><li class=\"fragment fade-in\">Comparison showed that a single in situ OBP can serve as proxy for the entire Arctic</li></ul></div>\n",
       "\n",
       "</div>"
      ],
      "text/plain": [
       "<jupylecture.tools.FlexSlide at 0x7fe4ad7f2770>"
      ]
     },
     "metadata": {},
     "output_type": "display_data"
    }
   ],
   "source": [
    "slide=FlexSlide(\"### Arctic Ocean Bottom pressure variations well captured by GRACE\")\n",
    "slide.addimg(\"/files/images/peralta-ferriz2016.png\",flxwidth=\"flx40\",caption=\"From Peralta-ferriz et al. 2016\")\n",
    "slide.addItems(flxwidth=\"flx60\",frag=True,items=[\"In situ OBP well captured by GRACE\",\n",
    "                                                  \"Coherent OBP signals in the Arctic\",\n",
    "                                                 \"Comparison showed that a single in situ OBP can serve as proxy for the entire Arctic\"])\n",
    "slide.display()"
   ]
  },
  {
   "cell_type": "markdown",
   "metadata": {
    "cell_style": "center",
    "slideshow": {
     "slide_type": "slide"
    }
   },
   "source": [
    "### What have you learned? \n",
    "* Adding mass to the ocean\n",
    "    * Observable with time-variable gravity\n",
    "    * GRACE (1.5 - 2 mm/yr global mean ocean mass change)\n",
    "    * Different causes have non-uniform contributions (Ice sheets, hydrology, dams, \n",
    "    * Regional sea level also influenced by: Self attraction and loading, forcing from wind stress \n",
    "* Churning the Ocean\n",
    "    * Integration of the water column -> OBP\n",
    "    * OBP changes due to dynamic height differences\n",
    "    * Steric sea level: density driven dynamic height changes under the assumption of no OBP change\n",
    "    * Pressure gradients cause circulation (surface gradient may be different from bottom)\n",
    "\n",
    "#### Outlook\n",
    "* Still many ocean applications unexplored (geostrophic currents!)\n",
    "* Added value comes from combined interpretation with altimetry, Argo, etc."
   ]
  }
 ],
 "metadata": {
  "celltoolbar": "Slideshow",
  "kernelspec": {
   "display_name": "pyrr",
   "language": "python",
   "name": "pyrr"
  },
  "language_info": {
   "codemirror_mode": {
    "name": "ipython",
    "version": 3
   },
   "file_extension": ".py",
   "mimetype": "text/x-python",
   "name": "python",
   "nbconvert_exporter": "python",
   "pygments_lexer": "ipython3",
   "version": "3.10.7"
  },
  "rise": {
   "autolaunch": true,
   "enable_chalkboard": true,
   "footer": "<div><h3>GRACE Hackweek 2022 (Oceans), R. Rietbroek, Sept 2022</h3></div><div id=\"logobox\"></div>",
   "slideNumber": "c/t",
   "theme": "black",
   "transition": "None"
  }
 },
 "nbformat": 4,
 "nbformat_minor": 4
}
